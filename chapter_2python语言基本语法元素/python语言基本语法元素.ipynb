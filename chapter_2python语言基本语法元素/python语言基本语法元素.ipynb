{
 "cells": [
  {
   "cell_type": "markdown",
   "metadata": {},
   "source": [
    "### chapter-2 python语言基本语法元素:"
   ]
  },
  {
   "cell_type": "markdown",
   "metadata": {},
   "source": [
    "#### 2.1 程序的格式框架:"
   ]
  },
  {
   "cell_type": "code",
   "execution_count": 1,
   "metadata": {},
   "outputs": [],
   "source": [
    "# 缩进(Tab)\n",
    "# 注释(#)\n",
    "# 续航符(\\)"
   ]
  },
  {
   "cell_type": "markdown",
   "metadata": {},
   "source": [
    "#### 2.2 语法元素的名称:"
   ]
  },
  {
   "cell_type": "code",
   "execution_count": 3,
   "metadata": {},
   "outputs": [
    {
     "name": "stdout",
     "output_type": "stream",
     "text": [
      "['False', 'None', 'True', 'and', 'as', 'assert', 'async', 'await', 'break', 'class', 'continue', 'def', 'del', 'elif', 'else', 'except', 'finally', 'for', 'from', 'global', 'if', 'import', 'in', 'is', 'lambda', 'nonlocal', 'not', 'or', 'pass', 'raise', 'return', 'try', 'while', 'with', 'yield']\n"
     ]
    }
   ],
   "source": [
    "# 变量\n",
    "# 命名(数字不能开头)\n",
    "# 保留字(keyword)\n",
    "\n",
    "# 查看保留字:\n",
    "import keyword\n",
    "print(keyword.kwlist)"
   ]
  },
  {
   "cell_type": "markdown",
   "metadata": {},
   "source": [
    "#### 2.3 数据类型:"
   ]
  },
  {
   "cell_type": "code",
   "execution_count": 4,
   "metadata": {},
   "outputs": [],
   "source": [
    "# 数字类型\n",
    "# 字符串类型\n",
    "\n",
    "# 列表类型\n",
    "# 集合类型\n",
    "# 元组类型\n",
    "# 字典类型"
   ]
  },
  {
   "cell_type": "markdown",
   "metadata": {},
   "source": [
    "##### 2.3.1 数字类型:"
   ]
  },
  {
   "cell_type": "code",
   "execution_count": 5,
   "metadata": {},
   "outputs": [],
   "source": [
    "# 整数:\n",
    "# 十进制: 1010\n",
    "# 十六进制: 0x3F2\n",
    "# 二进制: 0b10101110\n",
    "# 八进制: 0o1763\n",
    "\n",
    "\n",
    "# 浮点数:\n",
    "# 一般形式: 123.456\n",
    "# 科学计数法: 1.23456e2\n",
    "\n",
    "\n",
    "# 复数:\n",
    "# a + bj"
   ]
  },
  {
   "cell_type": "markdown",
   "metadata": {},
   "source": [
    "##### 2.3.2 字符串数据类型:"
   ]
  },
  {
   "cell_type": "code",
   "execution_count": 6,
   "metadata": {},
   "outputs": [],
   "source": [
    "# 正向递增序号 反向递增序号"
   ]
  },
  {
   "cell_type": "markdown",
   "metadata": {},
   "source": [
    "#### 2.4 程序的语句元素:"
   ]
  },
  {
   "cell_type": "code",
   "execution_count": 7,
   "metadata": {},
   "outputs": [],
   "source": [
    "# 表达式\n",
    "# 赋值语句"
   ]
  },
  {
   "cell_type": "code",
   "execution_count": 8,
   "metadata": {},
   "outputs": [
    {
     "ename": "",
     "evalue": "",
     "output_type": "error",
     "traceback": [
      "\u001b[1;31m在当前单元格或上一个单元格中执行代码时 Kernel 崩溃。\n",
      "\u001b[1;31m请查看单元格中的代码，以确定故障的可能原因。\n",
      "\u001b[1;31m单击<a href='https://aka.ms/vscodeJupyterKernelCrash'>此处</a>了解详细信息。\n",
      "\u001b[1;31m有关更多详细信息，请查看 Jupyter <a href='command:jupyter.viewOutput'>log</a>。"
     ]
    }
   ],
   "source": [
    "# 引用:\n",
    "\n",
    "# import <功能库名称>\n",
    "# 使用: <功能库名称>.<函数名称>()\n",
    "import turtle\n",
    "turtle.fd(-200)\n",
    "turtle.right(90)\n",
    "turtle.circle(200)\n"
   ]
  },
  {
   "cell_type": "code",
   "execution_count": 1,
   "metadata": {},
   "outputs": [],
   "source": [
    "# 分支语句\n",
    "# 循环语句"
   ]
  },
  {
   "cell_type": "markdown",
   "metadata": {},
   "source": [
    "#### 2.5 基本输入输出函数:"
   ]
  },
  {
   "cell_type": "code",
   "execution_count": 2,
   "metadata": {},
   "outputs": [],
   "source": [
    "# input()------输入\n",
    "# eval()------转换\n",
    "# print()------输出"
   ]
  },
  {
   "cell_type": "code",
   "execution_count": 5,
   "metadata": {},
   "outputs": [
    {
     "data": {
      "text/plain": [
       "'1233.585554'"
      ]
     },
     "execution_count": 5,
     "metadata": {},
     "output_type": "execute_result"
    }
   ],
   "source": [
    "# input()------输入\n",
    "\n",
    "# <变量> = input(<提示性文字>) 提示性文字可以不设置\n",
    "# 无论用户输入什么内容, input函数都以***字符串类型***返回\n",
    "\n",
    "a = input(\"请输入:\")\n",
    "a"
   ]
  },
  {
   "cell_type": "code",
   "execution_count": 7,
   "metadata": {},
   "outputs": [
    {
     "data": {
      "text/plain": [
       "1.2"
      ]
     },
     "execution_count": 7,
     "metadata": {},
     "output_type": "execute_result"
    }
   ],
   "source": [
    "# eval()------转换\n",
    "\n",
    "# <变量> = eval(<字符串>)\n",
    "# eval(s)用于去掉字符串最外侧引号\n",
    "\n",
    "a = eval(\"1.2\")\n",
    "a"
   ]
  },
  {
   "cell_type": "code",
   "execution_count": 9,
   "metadata": {},
   "outputs": [
    {
     "data": {
      "text/plain": [
       "4.6"
      ]
     },
     "execution_count": 9,
     "metadata": {},
     "output_type": "execute_result"
    }
   ],
   "source": [
    "# 去掉引号后进行python语句运算\n",
    "a = eval(\"1.2 + 3.4\")\n",
    "a"
   ]
  },
  {
   "cell_type": "code",
   "execution_count": 11,
   "metadata": {},
   "outputs": [
    {
     "ename": "NameError",
     "evalue": "name 'phhh' is not defined",
     "output_type": "error",
     "traceback": [
      "\u001b[1;31m---------------------------------------------------------------------------\u001b[0m",
      "\u001b[1;31mNameError\u001b[0m                                 Traceback (most recent call last)",
      "Cell \u001b[1;32mIn[11], line 2\u001b[0m\n\u001b[0;32m      1\u001b[0m \u001b[38;5;66;03m# 去掉hhh引号后被hhh解释为变量(所以报错没有定义)\u001b[39;00m\n\u001b[1;32m----> 2\u001b[0m a \u001b[38;5;241m=\u001b[39m \u001b[38;5;28;43meval\u001b[39;49m\u001b[43m(\u001b[49m\u001b[38;5;124;43m\"\u001b[39;49m\u001b[38;5;124;43mphhh\u001b[39;49m\u001b[38;5;124;43m\"\u001b[39;49m\u001b[43m)\u001b[49m\n\u001b[0;32m      3\u001b[0m a\n",
      "File \u001b[1;32m<string>:1\u001b[0m\n",
      "\u001b[1;31mNameError\u001b[0m: name 'phhh' is not defined"
     ]
    }
   ],
   "source": [
    "# 去掉hhh引号后被hhh解释为变量(所以报错没有定义)\n",
    "a = eval(\"phhh\")\n",
    "a"
   ]
  },
  {
   "cell_type": "code",
   "execution_count": 12,
   "metadata": {},
   "outputs": [
    {
     "data": {
      "text/plain": [
       "123"
      ]
     },
     "execution_count": 12,
     "metadata": {},
     "output_type": "execute_result"
    }
   ],
   "source": [
    "# 定义hhh变量\n",
    "hhh = 123\n",
    "a = eval(\"hhh\")\n",
    "a"
   ]
  },
  {
   "cell_type": "code",
   "execution_count": 13,
   "metadata": {},
   "outputs": [
    {
     "data": {
      "text/plain": [
       "'hhh'"
      ]
     },
     "execution_count": 13,
     "metadata": {},
     "output_type": "execute_result"
    }
   ],
   "source": [
    "# 字符串hhh\n",
    "a = eval(\"'hhh'\")\n",
    "a"
   ]
  },
  {
   "cell_type": "code",
   "execution_count": 16,
   "metadata": {},
   "outputs": [
    {
     "name": "stdout",
     "output_type": "stream",
     "text": [
      "123123\n"
     ]
    }
   ],
   "source": [
    "# 与input函数结合使用(用来获取用户输入的数字)\n",
    "\n",
    "# <变量> = eval(input(<提示性文字>))\n",
    "value = input(\"请输入数字:\")\n",
    "print(value * 2)  \n",
    "\n",
    "# 获取为字符串 * 代表字符串重复两次"
   ]
  },
  {
   "cell_type": "code",
   "execution_count": 18,
   "metadata": {},
   "outputs": [
    {
     "name": "stdout",
     "output_type": "stream",
     "text": [
      "46\n",
      "46\n"
     ]
    }
   ],
   "source": [
    "# 正确获取用户输入数字方法:\n",
    "value = eval(input(\"请输入数字:\"))\n",
    "print(value * 2)\n",
    "\n",
    "\n",
    "# 程序等价为:\n",
    "s = input(\"请输入数字:\")\n",
    "value = eval(s)\n",
    "print(value * 2)\n"
   ]
  },
  {
   "cell_type": "code",
   "execution_count": 21,
   "metadata": {},
   "outputs": [
    {
     "name": "stdout",
     "output_type": "stream",
     "text": [
      "世界和平\n",
      "['a', 'b', 'c']\n",
      "10.01\n",
      "[1, 2, 3, 4]\n"
     ]
    }
   ],
   "source": [
    "# print()------输出(三种用法)\n",
    "\n",
    "# 第一种: 仅用于输出字符串或单个变量\n",
    "# print(<待输出字符串或变量>)\n",
    "\n",
    "# 字符串输出\n",
    "\n",
    "# 对于输出字符串 print()函数将去掉两侧双引号或单引号\n",
    "print(\"世界和平\")\n",
    "# print()函数输出字符串表达时, 统一使用单引号表达\n",
    "print([\"a\", \"b\", \"c\"])                       \n",
    "\n",
    "# 单个变量输出\n",
    "print(10.01)\n",
    "print([1, 2, 3, 4])\n"
   ]
  },
  {
   "cell_type": "code",
   "execution_count": 24,
   "metadata": {},
   "outputs": [
    {
     "name": "stdout",
     "output_type": "stream",
     "text": [
      "123.456 123.456 123.456\n",
      "python语言 最 受欢迎\n"
     ]
    }
   ],
   "source": [
    "# 第二种: 仅用于输出一个或多个变量\n",
    "\n",
    "# print(<变量1>, <变量2>, <变量3>)\n",
    "value = 123.456\n",
    "print(value, value, value)\n",
    "\n",
    "print(\"python语言\", \"最\", \"受欢迎\")\n"
   ]
  },
  {
   "cell_type": "code",
   "execution_count": 26,
   "metadata": {},
   "outputs": [
    {
     "name": "stdout",
     "output_type": "stream",
     "text": [
      "数字123.456和数字1024的乘积是126418.944\n"
     ]
    }
   ],
   "source": [
    "# 第三种: 用于混合输出字符串和变量值\n",
    "\n",
    "# print(<输出字符串模板>.format(<变量1>, <变量2>, <变量3>))\n",
    "\n",
    "a = 123.456\n",
    "b = 1024\n",
    "print(\"数字{}和数字{}的乘积是{}\".format(a, b, a * b))\n"
   ]
  },
  {
   "cell_type": "code",
   "execution_count": 38,
   "metadata": {},
   "outputs": [
    {
     "name": "stdout",
     "output_type": "stream",
     "text": [
      "24.\n",
      "15&"
     ]
    }
   ],
   "source": [
    "# print()函数输出文本时默认在***最后增加换行***\n",
    "# 如果不希望在最后增加这个换行----end=\"\"使用\n",
    "\n",
    "# print(<待输出内容>, end=\"<增加的输出结尾>\")\n",
    "\n",
    "a = 24\n",
    "b = 15\n",
    "print(a, end=\".\")\n",
    "print() # 不增加的换第一个输出并没有产生换行, 第二个输出也输出在第一行\n",
    "print(b, end=\"&\")\n"
   ]
  },
  {
   "cell_type": "markdown",
   "metadata": {},
   "source": [
    "#### 2.6 源代码书写风格:"
   ]
  },
  {
   "cell_type": "code",
   "execution_count": 40,
   "metadata": {},
   "outputs": [],
   "source": [
    "# python之禅---python中Lib文件夹中this.py"
   ]
  },
  {
   "cell_type": "markdown",
   "metadata": {},
   "source": [
    "#### 2.7 实例解析----倒背如流"
   ]
  },
  {
   "cell_type": "code",
   "execution_count": 2,
   "metadata": {},
   "outputs": [
    {
     "name": "stdout",
     "output_type": "stream",
     "text": [
      "nohtyp"
     ]
    }
   ],
   "source": [
    "# 实例 2.1\n",
    "s = input(\"请输入一段文本:\")\n",
    "i = len(s) - 1\n",
    "while i >= 0:\n",
    "    print(s[i], end=\"\")\n",
    "    i -= 1"
   ]
  },
  {
   "cell_type": "markdown",
   "metadata": {},
   "source": [
    "<!--  -->"
   ]
  },
  {
   "cell_type": "code",
   "execution_count": 3,
   "metadata": {},
   "outputs": [
    {
     "name": "stdout",
     "output_type": "stream",
     "text": [
      "nohtyp"
     ]
    }
   ],
   "source": [
    "# 实例 2.2\n",
    "s = input(\"请输入一段文本:\")\n",
    "i = -1\n",
    "while i >= -1 * len(s):\n",
    "    print(s[i], end=\"\")\n",
    "    i -= 1"
   ]
  },
  {
   "cell_type": "code",
   "execution_count": 4,
   "metadata": {},
   "outputs": [
    {
     "name": "stdout",
     "output_type": "stream",
     "text": [
      "nohtyp\n"
     ]
    }
   ],
   "source": [
    "# 实例 2.3\n",
    "s = input(\"请输入一段文本:\")\n",
    "print(s[::-1]) # 高级切片方法"
   ]
  }
 ],
 "metadata": {
  "kernelspec": {
   "display_name": "python",
   "language": "python",
   "name": "python3"
  },
  "language_info": {
   "codemirror_mode": {
    "name": "ipython",
    "version": 3
   },
   "file_extension": ".py",
   "mimetype": "text/x-python",
   "name": "python",
   "nbconvert_exporter": "python",
   "pygments_lexer": "ipython3",
   "version": "3.11.7"
  }
 },
 "nbformat": 4,
 "nbformat_minor": 2
}
