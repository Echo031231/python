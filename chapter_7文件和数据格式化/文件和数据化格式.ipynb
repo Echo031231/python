{
 "cells": [
  {
   "cell_type": "markdown",
   "metadata": {},
   "source": [
    "## 7.1文件的使用"
   ]
  },
  {
   "cell_type": "markdown",
   "metadata": {},
   "source": [
    "##### 7.1.1文件的类型"
   ]
  },
  {
   "cell_type": "markdown",
   "metadata": {},
   "source": [
    "###### 文本文件&二进制文件"
   ]
  },
  {
   "cell_type": "code",
   "execution_count": 16,
   "metadata": {},
   "outputs": [
    {
     "name": "stdout",
     "output_type": "stream",
     "text": [
      "全国计算机等级考试\n"
     ]
    }
   ],
   "source": [
    "# readline() 方法是 Python 文件对象的一个方法，用于从文件中读取一行内容\n",
    "f = open(\"test.txt\", \"rt\", encoding=\"utf-8\") # t表示以文本文件模式打开\n",
    "print(f.readline())\n",
    "f.close()"
   ]
  },
  {
   "cell_type": "code",
   "execution_count": 17,
   "metadata": {},
   "outputs": [
    {
     "name": "stdout",
     "output_type": "stream",
     "text": [
      "b'\\xe5\\x85\\xa8\\xe5\\x9b\\xbd\\xe8\\xae\\xa1\\xe7\\xae\\x97\\xe6\\x9c\\xba\\xe7\\xad\\x89\\xe7\\xba\\xa7\\xe8\\x80\\x83\\xe8\\xaf\\x95'\n"
     ]
    }
   ],
   "source": [
    "f = open(\"test.txt\", \"rb\") # b表示以二进制文件模式打开\n",
    "print(f.readline())\n",
    "f.close()"
   ]
  },
  {
   "cell_type": "markdown",
   "metadata": {},
   "source": [
    "##### 7.1.2文件的打开和关闭"
   ]
  },
  {
   "cell_type": "code",
   "execution_count": 10,
   "metadata": {},
   "outputs": [
    {
     "name": "stdout",
     "output_type": "stream",
     "text": [
      "全国计算机等级考试\n",
      "\n"
     ]
    }
   ],
   "source": [
    "# file = open('filename.txt', 'r')    # 只读模式\n",
    "# file = open('filename.txt', 'w')    # 写入模式\n",
    "# file = open('filename.txt', 'a')    # 追加模式\n",
    "# file = open('filename.txt', 'r+')  # 读取和写入模式\n",
    "# file = open('filename.txt', 'w+')  # 写入和读取模式\n",
    "# file = open('filename.txt', 'a+')  # 追加和读取模式\n",
    "# file = open('filename.txt', 'x')    # 独占创建模式\n",
    "# file = open('filename.bin', 'rb')  # 只读二进制模式\n",
    "# file = open('filename.bin', 'wb')  # 写入二进制模式\n",
    "# file = open('filename.bin', 'ab')  # 追加二进制模式\n",
    "# file = open('filename.bin', 'r+b') # 读取和写入二进制模式\n",
    "# file = open('filename.bin', 'w+b') # 写入和读取二进制模式\n",
    "# file = open('filename.bin', 'a+b') # 追加和读取二进制模式\n",
    "# file = open('filename.bin', 'x+b') # 独占创建二进制模式\n",
    "PATH = \"E:\\\\\"\n",
    "f = open(PATH + \"test.txt\", \"rt\", encoding=\"utf-8\")\n",
    "print(f.readline())\n",
    "f.close()\n",
    "\n",
    "# ValueError: I/O operation on closed file.\n",
    "# print(f.readline())\n"
   ]
  },
  {
   "cell_type": "markdown",
   "metadata": {},
   "source": [
    "##### 7.1.3文件的读写:"
   ]
  },
  {
   "cell_type": "code",
   "execution_count": 17,
   "metadata": {},
   "outputs": [
    {
     "name": "stdout",
     "output_type": "stream",
     "text": [
      "临安春雨初霁，  \n",
      "都城桃李又逢春。  \n",
      "长愿琴心三叠，  \n",
      "一声何满子。  \n",
      "新年都未有芳华，  \n",
      "二月初惊见草芽。  \n",
      "东风恶，欢情薄，  \n",
      "一场春梦，三度醒。\n"
     ]
    }
   ],
   "source": [
    "# | **`read(size=-1)`**   | 读取文件的内容，`size` 指定要读取的字节数；如果省略或为 `-1`，则读取整个文件。\n",
    "f = open(\"E:/bar.txt\", \"r\", encoding=\"utf-8\")\n",
    "s = f.read()\n",
    "print(s)\n",
    "f.close()"
   ]
  },
  {
   "cell_type": "code",
   "execution_count": 18,
   "metadata": {},
   "outputs": [
    {
     "name": "stdout",
     "output_type": "stream",
     "text": [
      "['临安春雨初霁，  \\n', '都城桃李又逢春。  \\n', '长愿琴心三叠，  \\n', '一声何满子。  \\n', '新年都未有芳华，  \\n', '二月初惊见草芽。  \\n', '东风恶，欢情薄，  \\n', '一场春梦，三度醒。']\n"
     ]
    }
   ],
   "source": [
    "# | **`readlines(hint=-1)`** | 读取文件的所有行，返回一个包含每行的列表，`hint` 限制读取的总字节数。\n",
    "f = open(\"E:/bar.txt\", \"r\", encoding=\"utf-8\")\n",
    "ls = f.readlines()\n",
    "print(ls)\n",
    "f.close()"
   ]
  },
  {
   "cell_type": "code",
   "execution_count": 20,
   "metadata": {},
   "outputs": [
    {
     "name": "stdout",
     "output_type": "stream",
     "text": [
      "临安春雨初霁，  \n",
      "都城桃李又逢春。  \n",
      "长愿琴心三叠，  \n",
      "一声何满子。  \n",
      "新年都未有芳华，  \n",
      "二月初惊见草芽。  \n",
      "东风恶，欢情薄，  \n",
      "一场春梦，三度醒。\n",
      "[]\n"
     ]
    }
   ],
   "source": [
    "# 因为f.read()已经读取完内容，指针停在文末，再次读取时，列表为空。\n",
    "f = open(\"E:/bar.txt\", \"r\", encoding=\"utf-8\")\n",
    "s = f.read()\n",
    "print(s)\n",
    "ls = f.readlines()\n",
    "print(ls)\n",
    "f.close()"
   ]
  },
  {
   "cell_type": "code",
   "execution_count": 23,
   "metadata": {},
   "outputs": [
    {
     "name": "stdout",
     "output_type": "stream",
     "text": [
      "临安春雨初霁，  \n",
      "都城桃李又逢春。  \n",
      "长愿琴心三叠，  \n",
      "一声何满子。  \n",
      "新年都未有芳华，  \n",
      "二月初惊见草芽。  \n",
      "东风恶，欢情薄，  \n",
      "一场春梦，三度醒。\n",
      "['临安春雨初霁，  \\n', '都城桃李又逢春。  \\n', '长愿琴心三叠，  \\n', '一声何满子。  \\n', '新年都未有芳华，  \\n', '二月初惊见草芽。  \\n', '东风恶，欢情薄，  \\n', '一场春梦，三度醒。']\n"
     ]
    }
   ],
   "source": [
    "# | **`seek(offset, whence=0)`** | 移动文件指针到指定位置，`offset` 为偏移量，`whence` 指定基准位置（0 为文件开头，1 为当前位置，2 为文件末尾）\n",
    "f = open(\"E:/bar.txt\", \"r\", encoding=\"utf-8\")\n",
    "s = f.read()\n",
    "print(s)\n",
    "\n",
    "f.seek(0) # 指针重置到文件开头\n",
    "ls = f.readlines()\n",
    "print(ls)\n",
    "f.close()"
   ]
  },
  {
   "cell_type": "code",
   "execution_count": 26,
   "metadata": {},
   "outputs": [
    {
     "name": "stdout",
     "output_type": "stream",
     "text": [
      "临安春雨初霁，  \n",
      "\n",
      "都城桃李又逢春。  \n",
      "\n",
      "长愿琴心三叠，  \n",
      "\n",
      "一声何满子。  \n",
      "\n",
      "新年都未有芳华，  \n",
      "\n",
      "二月初惊见草芽。  \n",
      "\n",
      "东风恶，欢情薄，  \n",
      "\n",
      "一场春梦，三度醒。\n"
     ]
    }
   ],
   "source": [
    "f = open(\"E:/bar.txt\", \"r\", encoding=\"utf-8\")\n",
    "for line in f:\n",
    "    print(line)\n",
    "f.close()"
   ]
  },
  {
   "cell_type": "code",
   "execution_count": 34,
   "metadata": {},
   "outputs": [],
   "source": [
    "# | **`write(string)`**  | 写入字符串到文件，字符串将覆盖文件中的内容。\n",
    "\n",
    "# 白雪却嫌春色晚，  \n",
    "# 一枝红杏出墙来。  \n",
    "# 千里黄云白日曛，  \n",
    "# 万里雪飘红字稠。\n",
    "\n",
    "f = open(\"E:/c.txt\", \"w\")\n",
    "f.write(\"白雪却嫌春色晚\\n\")\n",
    "f.write(\"一枝红杏出墙来\\n\")\n",
    "f.write(\"千里黄云白日曛\\n\")\n",
    "f.write(\"万里雪飘红字稠\\n\")\n",
    "f.close()\n"
   ]
  },
  {
   "cell_type": "code",
   "execution_count": 36,
   "metadata": {},
   "outputs": [],
   "source": [
    "# | **`writelines(lines)`** | 写入一个字符串列表到文件，每个字符串将写入一行。\n",
    "# 列表写入  \n",
    "ls = ['白雪却嫌春色晚\\n', '一枝红杏出墙来\\n', '千里黄云白日曛\\n', '万里雪飘红字稠\\n']\n",
    "f = open(\"E:/d.txt\", \"w\")\n",
    "f.writelines(ls)\n",
    "f.close()"
   ]
  },
  {
   "cell_type": "markdown",
   "metadata": {},
   "source": [
    "## 7.2数据组织的维度:"
   ]
  },
  {
   "cell_type": "markdown",
   "metadata": {},
   "source": [
    "##### 7.2.1一维数据及其处理:"
   ]
  },
  {
   "cell_type": "code",
   "execution_count": 38,
   "metadata": {},
   "outputs": [
    {
     "data": {
      "text/plain": [
       "['北京', '上海', '天津', '重庆']"
      ]
     },
     "execution_count": 38,
     "metadata": {},
     "output_type": "execute_result"
    }
   ],
   "source": [
    "# 一维数据: 只有一个数据维度的数据\n",
    "\n",
    "# 表示:(使用列表表示)\n",
    "\n",
    "ls = ['北京', '上海', '天津', '重庆']\n",
    "ls\n"
   ]
  },
  {
   "cell_type": "code",
   "execution_count": 40,
   "metadata": {},
   "outputs": [],
   "source": [
    "# 存储:\n",
    "\n",
    "# CSV（Comma-Separated Values，逗号分隔值）是一种常见的数据文件格式，用于以文本形式存储表格数据。\n",
    "# CSV 文件的每一行代表表格中的一行记录，每个字段由逗号分隔\n",
    "\n",
    "# join 方法用于将序列中的字符串连接成一个新的字符串。它是字符串类型的一个方法\n",
    "# separator.join(iterable)\n",
    "# separator：用作分隔符的字符串。\n",
    "# iterable：一个包含字符串的可迭代对象（如列表、元组）\n",
    "\n",
    "# 列表对象输出为CSV格式\n",
    "f = open(\"city.csv\", \"w\")\n",
    "f.write(\",\".join(ls) + \"\\n\" ) # 将列表 ls 中的所有元素连接成一个字符串，元素之间用逗号分隔,在字符串的末尾添加一个换行符 \n",
    "f.close()"
   ]
  },
  {
   "cell_type": "code",
   "execution_count": 43,
   "metadata": {},
   "outputs": [
    {
     "data": {
      "text/plain": [
       "['北京', '上海', '天津', '重庆']"
      ]
     },
     "execution_count": 43,
     "metadata": {},
     "output_type": "execute_result"
    }
   ],
   "source": [
    "# 处理:\n",
    "\n",
    "# split() 方法是 Python 字符串对象的一个方法，用于将字符串分割成子字符串列表\n",
    "# strip() 方法是 Python 字符串对象的一个方法，用于移除字符串两端的指定字符（默认为空白字符）。\n",
    "# 它不会改变字符串中间的内容，只会处理字符串的开头和结尾\n",
    "\n",
    "# 从CSV格式中读入一维数据\n",
    "f = open(\"city.csv\", \"r\")\n",
    "ls = f.read().strip(\"\\n\").split(\",\")\n",
    "f.close()\n",
    "ls"
   ]
  },
  {
   "cell_type": "markdown",
   "metadata": {},
   "source": [
    "##### 7.2.2二维数据及其处理:"
   ]
  },
  {
   "cell_type": "code",
   "execution_count": 2,
   "metadata": {},
   "outputs": [
    {
     "data": {
      "text/plain": [
       "[['指标', '2018年', '2019年', '2020年'],\n",
       " ['居民消费价格指数', '102.1', '102.9', '102.5'],\n",
       " ['食品烟酒及用品', '101.9', '107.0', '108.3'],\n",
       " ['衣着', '101.2', '101.6', '99.8'],\n",
       " ['生活用品及服务', '101.6', '100.96', '100.0'],\n",
       " ['医疗保健和个人用品', '104.3', '102.4', '101.8'],\n",
       " ['交通和通信', '101.7', '98.3', '96.5'],\n",
       " ['娱乐教育文化', '102.2', '102.2', '101.3'],\n",
       " ['居住', '102.4', '101.4', '99.6']]"
      ]
     },
     "execution_count": 2,
     "metadata": {},
     "output_type": "execute_result"
    }
   ],
   "source": [
    "# 表示:\n",
    "\n",
    "ls = [\n",
    "    ['指标', '2018年', '2019年', '2020年'],\n",
    "    ['居民消费价格指数', '102.1', '102.9', '102.5'],\n",
    "    ['食品烟酒及用品', '101.9', '107.0', '108.3'],\n",
    "    ['衣着', '101.2', '101.6', '99.8'],\n",
    "    ['生活用品及服务', '101.6', '100.96', '100.0'],\n",
    "    ['医疗保健和个人用品', '104.3', '102.4', '101.8'],\n",
    "    ['交通和通信', '101.7', '98.3', '96.5'],\n",
    "    ['娱乐教育文化', '102.2', '102.2', '101.3'],\n",
    "    ['居住', '102.4', '101.4', '99.6'],\n",
    "]\n",
    "ls"
   ]
  },
  {
   "cell_type": "code",
   "execution_count": 12,
   "metadata": {},
   "outputs": [],
   "source": [
    "# 存储:\n",
    "\n",
    "# 二维列表对象输出为CSV格式:\n",
    "f = open(\"cpi.csv\", \"w\")\n",
    "for i in ls:\n",
    "    f.write(\",\".join(i) + \"\\n\") # join()-=--填入列表或元组\n",
    "f.close()"
   ]
  },
  {
   "cell_type": "code",
   "execution_count": 17,
   "metadata": {},
   "outputs": [
    {
     "data": {
      "text/plain": [
       "[['指标', '2018年', '2019年', '2020年'],\n",
       " ['居民消费价格指数', '102.1', '102.9', '102.5'],\n",
       " ['食品烟酒及用品', '101.9', '107.0', '108.3'],\n",
       " ['衣着', '101.2', '101.6', '99.8'],\n",
       " ['生活用品及服务', '101.6', '100.96', '100.0'],\n",
       " ['医疗保健和个人用品', '104.3', '102.4', '101.8'],\n",
       " ['交通和通信', '101.7', '98.3', '96.5'],\n",
       " ['娱乐教育文化', '102.2', '102.2', '101.3'],\n",
       " ['居住', '102.4', '101.4', '99.6']]"
      ]
     },
     "execution_count": 17,
     "metadata": {},
     "output_type": "execute_result"
    }
   ],
   "source": [
    "# 处理:\n",
    "# 从CSV格式文件中读入文件\n",
    "\n",
    "f = open(\"cpi.csv\", \"r\")\n",
    "ls = []\n",
    "for line in f:\n",
    "    ls.append(line.strip(\"\\n\").split(\",\"))\n",
    "f.close()\n",
    "ls"
   ]
  },
  {
   "cell_type": "code",
   "execution_count": 36,
   "metadata": {},
   "outputs": [
    {
     "name": "stdout",
     "output_type": "stream",
     "text": [
      "指标        \t2018年     \t2019年     \t2020年     \t\n",
      "居民消费价格指数  \t102.1     \t102.9     \t102.5     \t\n",
      "食品烟酒及用品   \t101.9     \t107.0     \t108.3     \t\n",
      "衣着        \t101.2     \t101.6     \t99.8      \t\n",
      "生活用品及服务   \t101.6     \t100.96    \t100.0     \t\n",
      "医疗保健和个人用品 \t104.3     \t102.4     \t101.8     \t\n",
      "交通和通信     \t101.7     \t98.3      \t96.5      \t\n",
      "娱乐教育文化    \t102.2     \t102.2     \t101.3     \t\n",
      "居住        \t102.4     \t101.4     \t99.6      \t\n"
     ]
    }
   ],
   "source": [
    "# 对二维数据每一个数据的处理\n",
    "for row in ls:\n",
    "    line = \"\"\n",
    "    for item in row:\n",
    "        line += \"{:10}\\t\".format(item)\n",
    "    print(line)\n"
   ]
  },
  {
   "cell_type": "code",
   "execution_count": 14,
   "metadata": {},
   "outputs": [
    {
     "name": "stdout",
     "output_type": "stream",
     "text": [
      "                         国家财政收支线性估计                         \n",
      "指标              2010      2011      2012      2013      2014      2015      2016\n",
      "全部收入        105359.6  114550.1  123740.6  132931.0  142121.5  151312.0  160502.4\n",
      "中央收入         48169.1   52283.8   56398.5   60513.2   64627.9   68742.7   72857.4\n",
      "地方收入         57190.6   62266.3   67342.1   72417.8   77493.6   82569.3   87645.1\n",
      "全部支出        122936.9  133645.7  144354.5  155063.3  165772.1  176480.9  187189.8\n",
      "中央支出         19037.5   20390.9   21744.3   23097.7   24451.1   25804.5   27157.9\n",
      "地方支出        103899.4  113254.8  122610.2  131965.6  141321.0  150676.4  160031.9\n"
     ]
    }
   ],
   "source": [
    "# 实例解析:-----国家财政数据趋势演算\n",
    "\n",
    "# zip() 函数是 Python 内置的一个函数，用于将多个可迭代对象（如列表、元组、集合）打包成一个元组的迭代器。\n",
    "# 每个元组包含来自所有可迭代对象的对应元素\n",
    "\n",
    "# 将txt文件内容转换为二维列表\n",
    "f = open(\"finance.txt\", \"r\", encoding=\"utf-8\")\n",
    "ls = []\n",
    "for line in f:\n",
    "    line = line.strip('\\n').split()\n",
    "    del line[0::2]\n",
    "    ls.append(line)\n",
    "    ls = [i for i in ls if i] # 列表推导式(见learning.py)\n",
    "f.close()\n",
    "\n",
    "# 存储为CSV文件\n",
    "f = open(\"finance.csv\", \"w\")\n",
    "for row in ls:\n",
    "    f.write(\",\".join(row) + \"\\n\")\n",
    "f.close()\n",
    "\n",
    "\n",
    "# parseCSV--CSV处理函数\n",
    "def parseCSV(filename):\n",
    "    f = open(filename, \"r\")\n",
    "    dataNames = []\n",
    "    data = []\n",
    "    for line in f:\n",
    "        splitedLine = line.strip(\"\\n\").split(\",\")\n",
    "        # x[:-1]从起始位置到倒数第一个(不包括)\n",
    "            # x[:-1]去掉单位方法\n",
    "        if \"指标\" in splitedLine[0]:\n",
    "            years = [int(x[:-1]) for x in splitedLine[1:]] # 列表推导式，(-1表示倒数第一个元素,前面表示不包括)\n",
    "        else:\n",
    "            dataNames.append(\"{:10}\".format(splitedLine[0])) # 默认右对齐\n",
    "            data.append([float(x[:-1]) for x in splitedLine[1:]]) \n",
    "    f.close()\n",
    "    return years, dataNames, data\n",
    "\n",
    "\n",
    "# 计算均值函数:\n",
    "def means(data):\n",
    "    return sum(data) / len(data)\n",
    "\n",
    "\n",
    "# 线性回归函数\n",
    "def linerRegression(xlist, ylist):\n",
    "    xmeans = means(xlist)\n",
    "    ymeans = means(ylist)\n",
    "\n",
    "    bNumerator = - len(xlist) * xmeans * ymeans\n",
    "    bDenominator = -len(xlist) * xmeans ** 2\n",
    "\n",
    "    for x, y in zip(xlist, ylist):\n",
    "        bNumerator += x * y\n",
    "        bDenominator += x ** 2\n",
    "\n",
    "    b = bNumerator / bDenominator\n",
    "    a = ymeans - b * xmeans\n",
    "    return a, b\n",
    "\n",
    "\n",
    "# 产生新数据函数:\n",
    "def calNewData(newyears, a, b):\n",
    "    return [(a + b * x) for x in newyears]\n",
    "\n",
    "\n",
    "# 集中展示运行结果(重点在于格式化输出)\n",
    "def showResults(years, dataNames, newDatas):\n",
    "\n",
    "    print('{:^60}'.format('国家财政收支线性估计')) # 居中对齐\n",
    "    \n",
    "    header = '指标        '\n",
    "    for year in years:\n",
    "        header += '{:10}'.format(year)\n",
    "    print(header)\n",
    "\n",
    "    for name, lineData, in zip(dataNames, newDatas):\n",
    "        line = name\n",
    "        for data in lineData:\n",
    "            line += '{:>10.1f}'.format(data)\n",
    "        print(line)\n",
    "\n",
    "\n",
    "# 主函数:\n",
    "def main():\n",
    "    newyears = [x + 2010 for x in range(7)] # 2010 2011----2016\n",
    "    newDatas = []\n",
    "\n",
    "    years, dataNames, datas = parseCSV('finance.csv')\n",
    "\n",
    "    for data in datas:\n",
    "        a, b = linerRegression(years, data)\n",
    "        newDatas.append(calNewData(newyears, a, b))\n",
    "    \n",
    "    showResults(newyears, dataNames, newDatas)\n",
    "\n",
    "\n",
    "main()\n",
    "\n"
   ]
  }
 ],
 "metadata": {
  "kernelspec": {
   "display_name": "Python 3",
   "language": "python",
   "name": "python3"
  },
  "language_info": {
   "codemirror_mode": {
    "name": "ipython",
    "version": 3
   },
   "file_extension": ".py",
   "mimetype": "text/x-python",
   "name": "python",
   "nbconvert_exporter": "python",
   "pygments_lexer": "ipython3",
   "version": "3.11.7"
  }
 },
 "nbformat": 4,
 "nbformat_minor": 2
}
