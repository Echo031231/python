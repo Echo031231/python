{
 "cells": [
  {
   "cell_type": "markdown",
   "metadata": {},
   "source": [
    "### random标准库:"
   ]
  },
  {
   "cell_type": "markdown",
   "metadata": {},
   "source": [
    "#### 9.3 random库概述:"
   ]
  },
  {
   "cell_type": "code",
   "execution_count": 5,
   "metadata": {},
   "outputs": [
    {
     "data": {
      "text/plain": [
       "0.4074228582533711"
      ]
     },
     "execution_count": 5,
     "metadata": {},
     "output_type": "execute_result"
    }
   ],
   "source": [
    "from random import *\n",
    "random()\n"
   ]
  },
  {
   "cell_type": "markdown",
   "metadata": {},
   "source": [
    "#### 9.4 random库与随机数运用:"
   ]
  },
  {
   "cell_type": "code",
   "execution_count": 20,
   "metadata": {},
   "outputs": [
    {
     "name": "stdout",
     "output_type": "stream",
     "text": [
      "0.5714025946899135\n",
      "0.4288890546751146\n",
      "0.5780913011344704\n",
      "\n",
      "0.5714025946899135\n",
      "0.4288890546751146\n",
      "0.5780913011344704\n"
     ]
    }
   ],
   "source": [
    "# | `random.random()`           | 生成一个范围在 `[0.0, 1.0)` 之间的随机浮点数--------不包括1.0\n",
    "seed(10)\n",
    "print(random())\n",
    "print(random())\n",
    "print(random())\n",
    "\n",
    "print()\n",
    "\n",
    "# 再次设置相同的种子,则后续产生的随机数相同\n",
    "seed(10)\n",
    "print(random())\n",
    "print(random())\n",
    "print(random())"
   ]
  },
  {
   "cell_type": "code",
   "execution_count": 26,
   "metadata": {},
   "outputs": [
    {
     "name": "stdout",
     "output_type": "stream",
     "text": [
      "4\n",
      "976\n",
      "951\n"
     ]
    }
   ],
   "source": [
    "# | `random.randint(a, b)`      | 生成一个范围在 `[a, b]` 之间的随机整数------------包括 `a` 和 `b`。\n",
    "print(randint(1, 10))\n",
    "print(randint(1, 1000))\n",
    "print(randint(-1000, 1000))"
   ]
  },
  {
   "cell_type": "code",
   "execution_count": 29,
   "metadata": {},
   "outputs": [
    {
     "name": "stdout",
     "output_type": "stream",
     "text": [
      "1063273330727718936065967711326\n",
      "102\n",
      "0b1101011010111001111100010101110001000000101101101000000011000001110001011100011101001110010001011110\n"
     ]
    }
   ],
   "source": [
    "# | `random.getrandbits(k)`     | 生成一个具有 `k` 位二进制数的随机整数，范围是 `[0, 2^k - 1]`。 \n",
    "# k表示二进制位数 -----整数范围是 `[0, 2^k - 1]`\n",
    "a = getrandbits(100)\n",
    "print(a)\n",
    "print(len(bin(a))) # 含0b前导符 \n",
    "print(bin(a))"
   ]
  },
  {
   "cell_type": "code",
   "execution_count": 33,
   "metadata": {},
   "outputs": [
    {
     "data": {
      "text/plain": [
       "495"
      ]
     },
     "execution_count": 33,
     "metadata": {},
     "output_type": "execute_result"
    }
   ],
   "source": [
    "# | `random.randrange(start, stop[, step])` | 生成一个范围在 `[start, stop)` 之间的随机整数，步长为 `step`。 \n",
    "randrange(10, 1000, 5)"
   ]
  },
  {
   "cell_type": "code",
   "execution_count": 35,
   "metadata": {},
   "outputs": [
    {
     "name": "stdout",
     "output_type": "stream",
     "text": [
      "84.41634059508768\n"
     ]
    },
    {
     "data": {
      "text/plain": [
       "26.991093605676546"
      ]
     },
     "execution_count": 35,
     "metadata": {},
     "output_type": "execute_result"
    }
   ],
   "source": [
    "# | `random.uniform(a, b)`      | 生成一个范围在 `[a, b]` 之间的随机浮点数-----包括a和b\n",
    "print(uniform(10, 100))\n",
    "uniform(1.1, 99.8)"
   ]
  },
  {
   "cell_type": "code",
   "execution_count": 37,
   "metadata": {},
   "outputs": [
    {
     "name": "stdout",
     "output_type": "stream",
     "text": [
      "n\n",
      "3\n",
      "123\n"
     ]
    }
   ],
   "source": [
    "# | `random.choice(seq)`        | 从序列 `seq` 中随机选择一个元素。  \n",
    "# 序列类型包括列表,元组,字符串\n",
    "\n",
    "# 字符串\n",
    "print(choice(\"python\"))\n",
    "\n",
    "# 列表\n",
    "print(choice([1, 2, 3, 4, 5, 6]))\n",
    "\n",
    "# 元组\n",
    "print(choice((\"python\", \"123\")))"
   ]
  },
  {
   "cell_type": "code",
   "execution_count": 38,
   "metadata": {},
   "outputs": [
    {
     "data": {
      "text/plain": [
       "[1, 3, 5, 6, 4, 2]"
      ]
     },
     "execution_count": 38,
     "metadata": {},
     "output_type": "execute_result"
    }
   ],
   "source": [
    "# | `random.shuffle(x)`         | 将序列 `x` 中的元素随机打乱，原地修改序列----主要用于列表\n",
    "ls = [1, 2, 3, 4, 5, 6]\n",
    "shuffle(ls)\n",
    "ls\n"
   ]
  },
  {
   "cell_type": "code",
   "execution_count": 43,
   "metadata": {},
   "outputs": [
    {
     "name": "stdout",
     "output_type": "stream",
     "text": [
      "[4, 2, 1, 6]\n",
      "[4, 3, 1]\n",
      "[5, 1, 2]\n",
      "['h', 'o', 't']\n"
     ]
    }
   ],
   "source": [
    "# | `random.sample(population, k)` | 从 `population` 中随机选择 `k` 个不同的元素，返回一个列表。  \n",
    "# # 序列类型包括列表,元组,字符串\n",
    "\n",
    "# 列表\n",
    "print(sample([1, 2, 3, 4, 5, 6], 4))\n",
    "print(sample([1, 2, 3, 4, 5, 6], 3))\n",
    "\n",
    "# 元组\n",
    "print(sample((1, 2, 3, 4, 5, 6), 3))\n",
    "\n",
    "# 字符串\n",
    "print(sample(\"python\", 3))"
   ]
  }
 ],
 "metadata": {
  "kernelspec": {
   "display_name": "Python 3",
   "language": "python",
   "name": "python3"
  },
  "language_info": {
   "codemirror_mode": {
    "name": "ipython",
    "version": 3
   },
   "file_extension": ".py",
   "mimetype": "text/x-python",
   "name": "python",
   "nbconvert_exporter": "python",
   "pygments_lexer": "ipython3",
   "version": "3.11.7"
  }
 },
 "nbformat": 4,
 "nbformat_minor": 2
}
