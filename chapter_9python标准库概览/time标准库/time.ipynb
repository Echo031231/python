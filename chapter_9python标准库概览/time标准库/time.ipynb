{
 "cells": [
  {
   "cell_type": "markdown",
   "metadata": {},
   "source": [
    "### time标准库:"
   ]
  },
  {
   "cell_type": "markdown",
   "metadata": {},
   "source": [
    "#### 9.5time库概述:"
   ]
  },
  {
   "cell_type": "markdown",
   "metadata": {},
   "source": [
    "##### 9.5.1 时间处理函数:"
   ]
  },
  {
   "cell_type": "code",
   "execution_count": 27,
   "metadata": {},
   "outputs": [],
   "source": [
    "import time\n",
    "# time.localtime()"
   ]
  },
  {
   "cell_type": "code",
   "execution_count": 28,
   "metadata": {},
   "outputs": [
    {
     "data": {
      "text/plain": [
       "1723792075.405209"
      ]
     },
     "execution_count": 28,
     "metadata": {},
     "output_type": "execute_result"
    }
   ],
   "source": [
    "# | `time.time()`              | 获取当前时间的时间戳。  \n",
    "# time.time() 函数返回的时间戳是自1970年1月1日以来的秒数。\n",
    "# 例如，1695567587.654321 。这个数值可以用来表示当前表示从纪元到当前时间的秒数的时间点\n",
    "time.time()"
   ]
  },
  {
   "cell_type": "code",
   "execution_count": 29,
   "metadata": {},
   "outputs": [
    {
     "data": {
      "text/plain": [
       "time.struct_time(tm_year=2024, tm_mon=8, tm_mday=16, tm_hour=15, tm_min=7, tm_sec=56, tm_wday=4, tm_yday=229, tm_isdst=0)"
      ]
     },
     "execution_count": 29,
     "metadata": {},
     "output_type": "execute_result"
    }
   ],
   "source": [
    "# | `time.localtime([secs])`   | 将时间戳（或当前时间）转换为本地时间(北京时间)的 `struct_time` 对象。 \n",
    "time.localtime()"
   ]
  },
  {
   "cell_type": "code",
   "execution_count": 30,
   "metadata": {},
   "outputs": [
    {
     "data": {
      "text/plain": [
       "time.struct_time(tm_year=2024, tm_mon=8, tm_mday=16, tm_hour=7, tm_min=7, tm_sec=57, tm_wday=4, tm_yday=229, tm_isdst=0)"
      ]
     },
     "execution_count": 30,
     "metadata": {},
     "output_type": "execute_result"
    }
   ],
   "source": [
    "# | `time.gmtime([secs])`      | 将时间戳（或当前时间）转换为 UTC 时间(UTC时间是全球标准时间，不受时区影响)的 `struct_time` 对象。 \n",
    "time.gmtime()"
   ]
  },
  {
   "cell_type": "code",
   "execution_count": 31,
   "metadata": {},
   "outputs": [],
   "source": [
    "# 这三个函数都可以不传入参数，自动使用当前系统时间的时间戳进行计算\n",
    "# time.gmtime()\n",
    "# time.localtime()\n",
    "# time.ctime()"
   ]
  },
  {
   "cell_type": "code",
   "execution_count": 32,
   "metadata": {},
   "outputs": [
    {
     "data": {
      "text/plain": [
       "'Fri Aug 16 15:07:59 2024'"
      ]
     },
     "execution_count": 32,
     "metadata": {},
     "output_type": "execute_result"
    }
   ],
   "source": [
    "# | `time.ctime([secs])`       | 将时间戳（或当前时间）转换为可读的字符串形式。  \n",
    "time.ctime()"
   ]
  },
  {
   "cell_type": "markdown",
   "metadata": {},
   "source": [
    "##### 9.5.2 时间格式化函数:"
   ]
  },
  {
   "cell_type": "code",
   "execution_count": 35,
   "metadata": {},
   "outputs": [
    {
     "name": "stdout",
     "output_type": "stream",
     "text": [
      "1723792447.0\n"
     ]
    },
    {
     "data": {
      "text/plain": [
       "'Fri Aug 16 15:14:07 2024'"
      ]
     },
     "execution_count": 35,
     "metadata": {},
     "output_type": "execute_result"
    }
   ],
   "source": [
    "# | `time.mktime()`      | 将 `struct_time` 对象转换为时间戳（秒数）。 \n",
    "t = time.localtime()\n",
    "print(time.mktime(t))\n",
    "time.ctime(time.mktime(t))"
   ]
  },
  {
   "cell_type": "code",
   "execution_count": 39,
   "metadata": {},
   "outputs": [
    {
     "data": {
      "text/plain": [
       "'2024-08-16 15:27:01'"
      ]
     },
     "execution_count": 39,
     "metadata": {},
     "output_type": "execute_result"
    }
   ],
   "source": [
    "# | `time.strftime()`    | 将 `struct_time` 对象格式化为时间字符串。 ---时间格式化最有效的方法\n",
    "# 几乎可以以任何通用格式输出时间\n",
    "lctime = time.localtime()\n",
    "time.strftime(\"%Y-%m-%d %H:%M:%S\", lctime)"
   ]
  },
  {
   "cell_type": "code",
   "execution_count": 41,
   "metadata": {},
   "outputs": [
    {
     "data": {
      "text/plain": [
       "time.struct_time(tm_year=2024, tm_mon=8, tm_mday=16, tm_hour=18, tm_min=25, tm_sec=36, tm_wday=4, tm_yday=229, tm_isdst=-1)"
      ]
     },
     "execution_count": 41,
     "metadata": {},
     "output_type": "execute_result"
    }
   ],
   "source": [
    "# | `time.strptime()`    | 将时间字符串解析为 `struct_time` 对象。\n",
    "# 与time.strftime()相反\n",
    "timeString = '2024-08-16 18:25:36'\n",
    "time.strptime(timeString, \"%Y-%m-%d %H:%M:%S\")"
   ]
  },
  {
   "cell_type": "markdown",
   "metadata": {},
   "source": [
    "##### 9.6 程序计时(计时函数):"
   ]
  },
  {
   "cell_type": "code",
   "execution_count": 46,
   "metadata": {},
   "outputs": [
    {
     "name": "stdout",
     "output_type": "stream",
     "text": [
      "程序开始时间: 2024-08-16 16:07:06\n",
      "模块1运行时间是:0.20098560000042198秒\n",
      "核心模块运行时间是:2.4974227999991854秒\n",
      "模块2运行时间是:0.4002295000027516秒\n",
      "程序运行总时间是:3.09864060000109秒\n",
      "程序结束时间: 2024-08-16 16:07:09\n"
     ]
    }
   ],
   "source": [
    "# 计时:\n",
    "import time\n",
    "\n",
    "def coreLoop():\n",
    "    limit = 10 ** 8\n",
    "    while (limit > 0):\n",
    "        limit -= 1\n",
    "\n",
    "\n",
    "def otherLoop_1():\n",
    "    time.sleep(0.2)\n",
    "\n",
    "\n",
    "\n",
    "def otherLoop_2():\n",
    "    time.sleep(0.4)\n",
    "\n",
    "\n",
    "def main():\n",
    "    startTime = time.localtime()\n",
    "    print(\"程序开始时间:\", time.strftime(\"%Y-%m-%d %H:%M:%S\", startTime))\n",
    "    startPerfCounter = time.perf_counter()\n",
    "\n",
    "    otherLoop_1()\n",
    "    otherLoop_1_PerfCounter = time.perf_counter()\n",
    "    otherLoop_1_perf = otherLoop_1_PerfCounter - startPerfCounter\n",
    "    \n",
    "    coreLoop()\n",
    "    coreLoop_PerfCounter = time.perf_counter()\n",
    "    coreLoop_perf = coreLoop_PerfCounter - otherLoop_1_PerfCounter\n",
    "\n",
    "    otherLoop_2()\n",
    "    otherLoop_2_PerfCounter = time.perf_counter()\n",
    "    otherLoop_2_perf = otherLoop_2_PerfCounter - coreLoop_PerfCounter\n",
    "\n",
    "    end_PerfCounter = time.perf_counter()\n",
    "    totalPerf = end_PerfCounter - startPerfCounter\n",
    "    endTime = time.localtime()\n",
    "\n",
    "    print(\"模块1运行时间是:{}秒\".format(otherLoop_1_perf))\n",
    "    print(\"核心模块运行时间是:{}秒\".format(coreLoop_perf))\n",
    "    print(\"模块2运行时间是:{}秒\".format(otherLoop_2_perf))\n",
    "    print(\"程序运行总时间是:{}秒\".format(totalPerf))\n",
    "    print(\"程序结束时间:\", time.strftime(\"%Y-%m-%d %H:%M:%S\", endTime))\n",
    "\n",
    "main()\n"
   ]
  }
 ],
 "metadata": {
  "kernelspec": {
   "display_name": "Python 3",
   "language": "python",
   "name": "python3"
  },
  "language_info": {
   "codemirror_mode": {
    "name": "ipython",
    "version": 3
   },
   "file_extension": ".py",
   "mimetype": "text/x-python",
   "name": "python",
   "nbconvert_exporter": "python",
   "pygments_lexer": "ipython3",
   "version": "3.11.7"
  }
 },
 "nbformat": 4,
 "nbformat_minor": 2
}
