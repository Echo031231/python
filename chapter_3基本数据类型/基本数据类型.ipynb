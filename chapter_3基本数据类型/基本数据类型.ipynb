{
 "cells": [
  {
   "cell_type": "markdown",
   "metadata": {},
   "source": [
    "### chapter_3 基本数据类型:"
   ]
  },
  {
   "cell_type": "markdown",
   "metadata": {},
   "source": [
    "#### 3.1 数字类型(整数类型 浮点数类型 复数类型):"
   ]
  },
  {
   "cell_type": "code",
   "execution_count": 4,
   "metadata": {},
   "outputs": [
    {
     "name": "stdout",
     "output_type": "stream",
     "text": [
      "2.0\n",
      "5652\n",
      "True\n",
      "True\n"
     ]
    }
   ],
   "source": [
    "# 整数类型:\n",
    "\n",
    "# 不同进制之间可以直接运算或比较(计算机内部都是二进制在运算比较)\n",
    "print((0x3F2 + 1010) / 0o1762) \n",
    "print(0b1010 + 0x1010 + 0o1010 + 1010)\n",
    "print(0x1010 > 0o1010)\n",
    "print(0x1010 == 4112)"
   ]
  },
  {
   "cell_type": "code",
   "execution_count": 8,
   "metadata": {},
   "outputs": [
    {
     "name": "stdout",
     "output_type": "stream",
     "text": [
      "3.04\n",
      "1.5241578774577044e+18\n",
      "8.000000066600002\n"
     ]
    }
   ],
   "source": [
    "# 浮点数类型:\n",
    "\n",
    "# 十进制表示 科学技术法(不能使用其它进制表示)\n",
    "print(1.01 + 2.03)\n",
    "print(1234567890.987654321 * 1234567890.987654321)\n",
    "print(9876543210.123456789 / 1234567890.987654321)"
   ]
  },
  {
   "cell_type": "code",
   "execution_count": 9,
   "metadata": {},
   "outputs": [
    {
     "name": "stdout",
     "output_type": "stream",
     "text": [
      "1374940678531097054162291350571104044956417832049380936096496320100000000000000000000000000000000\n",
      "1.3749406785310972e+96\n"
     ]
    }
   ],
   "source": [
    "# 整数与浮点数:\n",
    "\n",
    "# 1010 与 1010.0\n",
    "# pow(x, y)是python内置函数, 用来计算x的y次方\n",
    "print(pow(1010, 32))  # 整数的幂运算\n",
    "print(pow(1010.0, 32)) # 浮点数的幂运算\n",
    "\n",
    "# 对比可知: 对于幂运算 整数的精度高于浮点数"
   ]
  },
  {
   "cell_type": "code",
   "execution_count": 12,
   "metadata": {},
   "outputs": [
    {
     "name": "stdout",
     "output_type": "stream",
     "text": [
      "12300.0\n",
      "56700.0\n"
     ]
    },
    {
     "data": {
      "text/plain": [
       "69000.0"
      ]
     },
     "execution_count": 12,
     "metadata": {},
     "output_type": "execute_result"
    }
   ],
   "source": [
    "# 复数类型:\n",
    "# z.real---获取实部\n",
    "# z.imag---获取虚部\n",
    "print((1.23e4 + 5.67e4j).real)\n",
    "print((1.23e4 + 5.67e4j).imag)\n",
    "\n",
    "# 先获得5.67e4j复数虚部,在于1.23e4进行加法运算\n",
    "1.23e4 + 5.67e4j.imag"
   ]
  },
  {
   "cell_type": "markdown",
   "metadata": {},
   "source": [
    "#### 3.2 数字类型的运算:"
   ]
  },
  {
   "cell_type": "markdown",
   "metadata": {},
   "source": [
    "##### 3.2.1 数值运算操作符:"
   ]
  },
  {
   "cell_type": "code",
   "execution_count": 19,
   "metadata": {},
   "outputs": [
    {
     "name": "stdout",
     "output_type": "stream",
     "text": [
      "69000.0\n",
      "-44400.0\n",
      "697410000.0\n",
      "0.21693121693121692\n",
      "336.6666666666667\n",
      "336\n",
      "2\n",
      "1010\n",
      "-1010\n",
      "1030301000\n"
     ]
    }
   ],
   "source": [
    "# 数值运算操作符:\n",
    "\n",
    "# | 操作符  | 功能             | 示例               | 结果    |\n",
    "\n",
    "# 二元运算符\n",
    "# |-------|----------------|------------------|--------|\n",
    "# | `+`   | 加法             | `3 + 5`          | `8`    |\n",
    "# | `-`   | 减法             | `10 - 2`         | `8`    |\n",
    "# | `*`   | 乘法             | `4 * 7`          | `28`   |\n",
    "# | `/`   | 除法             | `10 / 2`         | `5.0`  |\n",
    "# | `//`  | 取整除（地板除）  | `10 // 3`        | `3`    |\n",
    "# | `%`   | 取余数（模运算）  | `10 % 3`         | `1`    |\n",
    "# | `**`  | 幂运算           | `2 ** 3`         | `8`    |\n",
    "\n",
    "# 一元运算符\n",
    "# | `-`   | 负号（取负）      | `-5`             | `-5`   |\n",
    "# | `+`   | 正号（取正）      | `+5`             | `5`    |\n",
    "\n",
    "print(1.23e4 + 5.67e4)\n",
    "print(1.23e4 - 5.67e4)\n",
    "print(1.23e4 * 5.67e4)\n",
    "print(1.23e4 / 5.67e4)\n",
    "\n",
    "print(1010 / 3) # 除法-------与取余运算区别开\n",
    "print(1010 // 3) # 取整\n",
    "print(1010 % 3) # 取余(模运算)\n",
    "\n",
    "print(+1010)\n",
    "print(-1010)\n",
    "print(1010 ** 3) # 幂运算\n",
    "\n"
   ]
  },
  {
   "cell_type": "code",
   "execution_count": 24,
   "metadata": {},
   "outputs": [
    {
     "name": "stdout",
     "output_type": "stream",
     "text": [
      "336.0\n",
      "2.0\n",
      "101.0\n",
      "(9-1j)\n"
     ]
    }
   ],
   "source": [
    "# 数值运算(数据类型改变)\n",
    "\n",
    "# 1. 整数与浮点数混合运算, 输出结果为浮点数\n",
    "print(1010.0 // 3) \n",
    "print(1010.0 % 3)\n",
    "\n",
    "# 2. 整数之间的运算, 与操作符有关, 除法运算(/)结果为浮点数\n",
    "print(1010 / 10) \n",
    "\n",
    "# 3. 整数和浮点数 与复数运算, 输出结果为复数\n",
    "print(10-(1+1j))\n"
   ]
  },
  {
   "cell_type": "code",
   "execution_count": 26,
   "metadata": {},
   "outputs": [
    {
     "name": "stdout",
     "output_type": "stream",
     "text": [
      "970299\n",
      "970300\n",
      "12\n"
     ]
    }
   ],
   "source": [
    "# 增强赋值操作符\n",
    "\n",
    "# 二元运算符+=(之间不能有空格)\n",
    "# += -= *= /= //= %= **=\n",
    "# 示例: x += y <=> x = x + y\n",
    "\n",
    "x = 99\n",
    "x **= 3 # 等价于 x = x ** 3\n",
    "print(x)\n",
    "x += 1\n",
    "print(x)\n",
    "x %= 88\n",
    "print(x)\n"
   ]
  },
  {
   "cell_type": "markdown",
   "metadata": {},
   "source": [
    "##### 3.2.2 数值运算函数:"
   ]
  },
  {
   "cell_type": "code",
   "execution_count": null,
   "metadata": {},
   "outputs": [],
   "source": [
    "# 数值运算函数:\n",
    "\n",
    "# | 函数                | 功能                                          | 示例                        | 结果       |\n",
    "# |---------------------|-----------------------------------------------|-----------------------------|------------|\n",
    "# | `abs(x)`            | 返回数值的绝对值                              | `abs(-5)`                   | `5`        |\n",
    "# | `round(x, n)`       | 将数值四舍五入到指定的小数位数                | `round(3.14159, 2)`         | `3.14`     |\n",
    "# | `max(iterable)`     | 返回可迭代对象中的最大值                      | `max(1, 5, 3)`              | `5`        |\n",
    "# | `min(iterable)`     | 返回可迭代对象中的最小值                      | `min(1, 5, 3)`              | `1`        |\n",
    "# | `sum(iterable)`     | 计算可迭代对象中所有元素的和                  | `sum([1, 2, 3, 4])`         | `10`       |\n",
    "# | `pow(x, y)`         | 计算 `x` 的 `y` 次幂                           | `pow(2, 3)`                 | `8`        |\n",
    "# | `pow(x, y, z)`      | 计算 `(x ** y) % z`                           | `pow(2, 3, 5)`              | `3`        |\n",
    "# | `divmod(x, y)`      | 返回 `(x // y, x % y)` 的元组                 | `divmod(10, 3)`             | `(3, 1)`   |\n",
    "# | `int(x)`            | 将数值或字符串转换为整数                      | `int(3.14)`                 | `3`        |\n",
    "# | `float(x)`          | 将数值或字符串转换为浮点数                    | `float(3)`                  | `3.0`      |\n",
    "# | `complex(x, y)`     | 创建复数                                      | `complex(2, 3)`             | `(2+3j)`   |\n",
    "# | `sqrt(x)`           | 计算 `x` 的平方根（需 `import math`）         | `math.sqrt(16)`             | `4.0`      |\n",
    "# | `ceil(x)`           | 返回大于或等于 `x` 的最小整数（向上取整）      | `math.ceil(3.14)`           | `4`        |\n",
    "# | `floor(x)`          | 返回小于或等于 `x` 的最大整数（向下取整）      | `math.floor(3.14)`          | `3`        |\n",
    "# | `exp(x)`            | 计算 `e` 的 `x` 次幂（需 `import math`）       | `math.exp(1)`               | `2.718281828459045` |\n",
    "# | `log(x, base)`      | 计算 `x` 的对数，`base` 为底数（需 `import math`） | `math.log(8, 2)`       | `3.0`      |\n",
    "# | `sin(x)`            | 计算 `x`（弧度） 的正弦值（需 `import math`） | `math.sin(math.pi/2)` | `1.0`      |\n",
    "# | `cos(x)`            | 计算 `x`（弧度） 的余弦值（需 `import math`） | `math.cos(0)`         | `1.0`      |\n",
    "# | `tan(x)`            | 计算 `x`（弧度） 的正切值（需 `import math`） | `math.tan(math.pi/4)` | `1.0`      |"
   ]
  },
  {
   "cell_type": "code",
   "execution_count": 29,
   "metadata": {},
   "outputs": [
    {
     "name": "stdout",
     "output_type": "stream",
     "text": [
      "30\n",
      "50.0\n"
     ]
    }
   ],
   "source": [
    "# | `abs(x)`            | 返回数值的绝对值 \n",
    "\n",
    "# 用于计算整数浮点数的绝对值\n",
    "# 计算复数(坐标点到原点的距离)----由于实部和虚部为浮点数 所以复数的绝对值为浮点数\n",
    "\n",
    "print(abs(-30))\n",
    "print(abs(-30 + 40j))"
   ]
  },
  {
   "cell_type": "code",
   "execution_count": 31,
   "metadata": {},
   "outputs": [
    {
     "name": "stdout",
     "output_type": "stream",
     "text": [
      "(11, 1)\n",
      "11\n",
      "1\n"
     ]
    }
   ],
   "source": [
    "# | `divmod(x, y)`      | 返回 `(x // y, x % y)` 的元组 \n",
    "print(divmod(100, 9))\n",
    "a, b = divmod(100, 9)\n",
    "print(a)\n",
    "print(b)"
   ]
  },
  {
   "cell_type": "code",
   "execution_count": 38,
   "metadata": {},
   "outputs": [
    {
     "name": "stdout",
     "output_type": "stream",
     "text": [
      "100\n",
      "1382073245479425468920150911010996224\n",
      "4375\n",
      "4375\n"
     ]
    }
   ],
   "source": [
    "# | `pow(x, y)`         | 计算 `x` 的 `y` 次幂                           | `pow(2, 3)`    \n",
    "# | `pow(x, y, z)`      | 计算 `(x ** y) % z`                           | `pow(2, 3, 5)`  \n",
    "\n",
    "# pow(x, y)\n",
    "print(pow(10, 2))\n",
    "print(pow(0x1010, 0b1010))\n",
    "\n",
    "# pow(x, y, z)\n",
    "print(pow(55, 1999999, 10000))  # 计算结果的后四位\n",
    "print(pow(55, 1999999) % 10000)"
   ]
  },
  {
   "cell_type": "code",
   "execution_count": 44,
   "metadata": {},
   "outputs": [
    {
     "name": "stdout",
     "output_type": "stream",
     "text": [
      "1\n",
      "0\n",
      "2\n",
      "1\n",
      "3.142\n",
      "3.14\n"
     ]
    }
   ],
   "source": [
    "# | `round(x, n)`       | 将数值四舍五入到指定的小数位数                | `round(3.14159, 2)` \n",
    "\n",
    "\n",
    "# 对整数和浮点数进行四舍五入运算\n",
    "print(round(1.4))\n",
    "\n",
    "# 对于x.5\"奇数进位偶数不进位\"*(x为整数部分)\n",
    "print(round(0.5))\n",
    "print(round(1.5))\n",
    "\n",
    "print(round(0.50001))\n",
    "\n",
    "# 带有位数(浮点数)\n",
    "print(round(3.1415926, 3))\n",
    "print(round(3.14159, 2))"
   ]
  },
  {
   "cell_type": "code",
   "execution_count": 46,
   "metadata": {},
   "outputs": [
    {
     "name": "stdout",
     "output_type": "stream",
     "text": [
      "0.1\n",
      "5\n"
     ]
    }
   ],
   "source": [
    "# | `max(iterable)`     | 返回可迭代对象中的最大值                      | `max(1, 5, 3)` \n",
    "# | `min(iterable)`     | 返回可迭代对象中的最小值                      | `min(1, 5, 3)`  \n",
    "\n",
    "# 对任意多个数值进行最大值或最小值比较:\n",
    "print(min(1, 2, 3, 4, 5, 0.1))\n",
    "print(max(1, 2, 3, 4, 5, 0.1))"
   ]
  },
  {
   "cell_type": "markdown",
   "metadata": {},
   "source": [
    "##### 3.2.3 数值比较运算:"
   ]
  },
  {
   "cell_type": "code",
   "execution_count": null,
   "metadata": {},
   "outputs": [],
   "source": [
    "# 数值比较运算符:\n",
    "\n",
    "# | 运算符  | 功能                   | 示例               | 结果       |\n",
    "# |---------|------------------------|--------------------|------------|\n",
    "# | `==`    | 判断两个值是否相等        | `5 == 5`           | `True`     |\n",
    "# | `!=`    | 判断两个值是否不相等      | `5 != 3`           | `True`     |\n",
    "# | `>`     | 判断左侧值是否大于右侧值  | `5 > 3`            | `True`     |\n",
    "# | `<`     | 判断左侧值是否小于右侧值  | `5 < 3`            | `False`    |\n",
    "# | `>=`    | 判断左侧值是否大于或等于右侧值 | `5 >= 5`    | `True`     |\n",
    "# | `<=`    | 判断左侧值是否小于或等于右侧值 | `5 <= 3`    | `False`    |"
   ]
  },
  {
   "cell_type": "code",
   "execution_count": 49,
   "metadata": {},
   "outputs": [
    {
     "name": "stdout",
     "output_type": "stream",
     "text": [
      "False\n",
      "True\n"
     ]
    }
   ],
   "source": [
    "# 整数和浮点数的比较运算:\n",
    "\n",
    "# 比较运算符结果为 True False\n",
    "# 可以在整数和浮点数之间任意比较\n",
    "\n",
    "print(1024 >= 0x1010)\n",
    "\n",
    "print(10 == 10.0)"
   ]
  },
  {
   "cell_type": "code",
   "execution_count": 53,
   "metadata": {},
   "outputs": [
    {
     "name": "stdout",
     "output_type": "stream",
     "text": [
      "False\n",
      "False\n"
     ]
    }
   ],
   "source": [
    "# 复数(可以和整数 浮点数比较)的比较运算：\n",
    "\n",
    "# 只能使用 == 和 != \n",
    "\n",
    "print(5 == 4 + 3j)\n",
    "print(3 + 4j == 4 + 3j)\n",
    "\n",
    "# 10 > 10 + 1j\n",
    "# 报错:\n",
    "# >' not supported between instances of 'int' and 'complex'\n"
   ]
  },
  {
   "cell_type": "markdown",
   "metadata": {},
   "source": [
    "#### 3.3 真假无值与逻辑运算:"
   ]
  },
  {
   "cell_type": "markdown",
   "metadata": {},
   "source": [
    "##### 3.3.1 真假值:True与False"
   ]
  },
  {
   "cell_type": "code",
   "execution_count": 55,
   "metadata": {},
   "outputs": [
    {
     "name": "stdout",
     "output_type": "stream",
     "text": [
      "True\n",
      "True\n",
      "False\n",
      "False\n",
      "True\n",
      "True\n",
      "False\n"
     ]
    }
   ],
   "source": [
    "# True False 为python保留字\n",
    "# 属于数字类型 True 表示 1, False 表示 0\n",
    "print(0.0 == False)\n",
    "print(0 == False)\n",
    "\n",
    "print(0.1 == False)\n",
    "print(0.1 == True)\n",
    "\n",
    "print(1 == True)\n",
    "print(1.0 == True)\n",
    "\n",
    "print(2 == True)"
   ]
  },
  {
   "cell_type": "markdown",
   "metadata": {},
   "source": [
    "##### 3.3.2 无值: None"
   ]
  },
  {
   "cell_type": "code",
   "execution_count": 56,
   "metadata": {},
   "outputs": [
    {
     "name": "stdout",
     "output_type": "stream",
     "text": [
      "hhh\n"
     ]
    },
    {
     "data": {
      "text/plain": [
       "True"
      ]
     },
     "execution_count": 56,
     "metadata": {},
     "output_type": "execute_result"
    }
   ],
   "source": [
    "# None 是python保留字 表达无 没有 空 含义\n",
    "# None 不是False, 不表示0, 不表示空字符串, 不对应任何数值\n",
    "\n",
    "a = print(\"hhh\")  # print语句不返回任何数值\n",
    "a == None\n",
    "# 由此可见, None 主要用来弥补程序中需要表达空含义的逻辑"
   ]
  },
  {
   "cell_type": "markdown",
   "metadata": {},
   "source": [
    "##### 3.3.3 逻辑运算: and or not"
   ]
  },
  {
   "cell_type": "code",
   "execution_count": null,
   "metadata": {},
   "outputs": [],
   "source": [
    "# 逻辑运算:\n",
    "\n",
    "# | 运算符  | 功能                              | 示例                     | 结果         |\n",
    "# |---------|-----------------------------------|--------------------------|--------------|\n",
    "# | `and`   | 逻辑与，所有条件为真时返回 True     | `True and False`         | `False`      |\n",
    "# | `or`    | 逻辑或，只要有一个条件为真就返回 True | `True or False`          | `True`       |\n",
    "# | `not`   | 逻辑非，将 True 变为 False，反之亦然 | `not True`               | `False`      |"
   ]
  },
  {
   "cell_type": "code",
   "execution_count": 68,
   "metadata": {},
   "outputs": [
    {
     "name": "stdout",
     "output_type": "stream",
     "text": [
      "False\n",
      "True\n",
      "True\n",
      "0\n"
     ]
    },
    {
     "data": {
      "text/plain": [
       "True"
      ]
     },
     "execution_count": 68,
     "metadata": {},
     "output_type": "execute_result"
    }
   ],
   "source": [
    "# | `and`   | 逻辑与，所有条件为真时返回 True   \n",
    "print(True and False)\n",
    "print(True and True)\n",
    "\n",
    "print(1 and True)\n",
    "print(0 and True)\n",
    "\n",
    "# python将所有非0值数字等价为True\n",
    "2 and True"
   ]
  },
  {
   "cell_type": "code",
   "execution_count": 67,
   "metadata": {},
   "outputs": [
    {
     "name": "stdout",
     "output_type": "stream",
     "text": [
      "True\n",
      "False\n",
      "False\n",
      "False\n"
     ]
    },
    {
     "data": {
      "text/plain": [
       "2"
      ]
     },
     "execution_count": 67,
     "metadata": {},
     "output_type": "execute_result"
    }
   ],
   "source": [
    "# | `or`    | 逻辑或，只要有一个条件为真就返回 True \n",
    "\n",
    "print(True or False)\n",
    "print(False or False)\n",
    "print(0 or False)\n",
    "print(False or False or False)\n",
    "\n",
    "2 or False"
   ]
  },
  {
   "cell_type": "code",
   "execution_count": 71,
   "metadata": {},
   "outputs": [
    {
     "name": "stdout",
     "output_type": "stream",
     "text": [
      "False\n",
      "True\n",
      "False\n"
     ]
    }
   ],
   "source": [
    "# | `not`   | 逻辑非，将 True 变为 False，反之亦然 | `not True`    \n",
    "print(not True)\n",
    "print(not 0)\n",
    "print(not 2)"
   ]
  },
  {
   "cell_type": "code",
   "execution_count": 74,
   "metadata": {},
   "outputs": [
    {
     "name": "stdout",
     "output_type": "stream",
     "text": [
      "False\n",
      "True\n",
      "True\n"
     ]
    }
   ],
   "source": [
    "# 与或非操作可以组合使用,加上()让操作关系更加清楚\n",
    "print((not True) and (not False))\n",
    "\n",
    "print((not True) and (not False) or (True or False and True))\n",
    "\n",
    "print(True and False or True)"
   ]
  },
  {
   "cell_type": "markdown",
   "metadata": {},
   "source": [
    "#### 3.4 字符串类型及格式化:"
   ]
  },
  {
   "cell_type": "code",
   "execution_count": 10,
   "metadata": {},
   "outputs": [
    {
     "name": "stdout",
     "output_type": "stream",
     "text": [
      "\"python\"\n",
      "'hhh'\n",
      "这是\"多行字符串\"的第一行\n",
      "这是'多行字符串'的第二行\n",
      "\n"
     ]
    },
    {
     "data": {
      "text/plain": [
       "'这是\"多行字符串\"的第一行\\n这是\\'多行字符串\\'的第二行\\n'"
      ]
     },
     "execution_count": 10,
     "metadata": {},
     "output_type": "execute_result"
    }
   ],
   "source": [
    "# 打印 \"\" ''\n",
    "print('\"python\"')\n",
    "print(\"'hhh'\")\n",
    "\n",
    "\n",
    "# 多行字符串''' '''    \"\"\" \"\"\"\n",
    "s = \"\"\"这是\"多行字符串\"的第一行\n",
    "这是'多行字符串'的第二行\n",
    "\"\"\"\n",
    "print(s) # print() 函数可以解析 \\n，并将其视为换行符\n",
    "s\n"
   ]
  },
  {
   "cell_type": "code",
   "execution_count": 12,
   "metadata": {},
   "outputs": [],
   "source": [
    "# Python 的 `print()` 函数可以解析大部分常见的转义字符，这些转义字符通常用于在字符串中表示特殊字符或控制字符。\n",
    "# 以下是一些常见的转义字符及其含义：\n",
    "\n",
    "# 1. **`\\n`**：换行符，表示开始新的一行。\n",
    "# 2. **`\\t`**：制表符（tab），相当于按下 Tab 键。\n",
    "# 3. **`\\\\`**：反斜杠，用于表示一个实际的反斜杠字符。\n",
    "# 4. **`\\'`**：单引号，用于在单引号字符串中插入一个实际的单引号。\n",
    "# 5. **`\\\"`**：双引号，用于在双引号字符串中插入一个实际的双引号。\n",
    "# 6. **`\\r`**：回车符，返回到当前行的开头，但不换行。\n",
    "# 7. **`\\b`**：退格符，删除前一个字符。\n",
    "# 8. **`\\f`**：换页符，换到下一个页面。"
   ]
  },
  {
   "cell_type": "code",
   "execution_count": 17,
   "metadata": {},
   "outputs": [
    {
     "name": "stdout",
     "output_type": "stream",
     "text": [
      "这里\n",
      "有一个换行\n",
      "这里\\有一个反斜杠\n",
      "既需要'单引号', 又需要\"双引号\"\n",
      "这里\t有一个制表符\n"
     ]
    }
   ],
   "source": [
    "# \\ (反斜杠字符) 是一个特殊字符, 在python---字符串---中表示转义\n",
    "\n",
    "\n",
    "# 1. **`\\n`**：换行符，表示开始新的一行。\n",
    "print(\"这里\\n有一个换行\")\n",
    "\n",
    "# 3. **`\\\\`**：反斜杠，用于表示一个实际的反斜杠字符。\n",
    "print(\"这里\\\\有一个反斜杠\")\n",
    "\n",
    "# 4. **`\\'`**：单引号，用于在单引号字符串中插入一个实际的单引号。\n",
    "# 5. **`\\\"`**：双引号，用于在双引号字符串中插入一个实际的双引号。\n",
    "print(\"既需要'单引号', 又需要\\\"双引号\\\"\")\n",
    "\n",
    "# 2. **`\\t`**：制表符（tab），相当于按下 Tab 键。\n",
    "print(\"这里\\t有一个制表符\")\n"
   ]
  },
  {
   "cell_type": "code",
   "execution_count": 20,
   "metadata": {},
   "outputs": [
    {
     "name": "stdout",
     "output_type": "stream",
     "text": [
      "BIGGO\n"
     ]
    }
   ],
   "source": [
    "# 反斜杠字符另一个作用: 续行(不一定用在字符串中)\n",
    "\n",
    "# 用于代码中的续行:\n",
    "a = 50\n",
    "if (a > 10 and a < 100) or\\\n",
    "            (a < -10 and a > -100):\n",
    "    print(\"BIGGO\")"
   ]
  },
  {
   "cell_type": "code",
   "execution_count": 21,
   "metadata": {},
   "outputs": [
    {
     "name": "stdout",
     "output_type": "stream",
     "text": [
      "这是\"多行字符串\"的第一行这是'多行字符串'的第二行\n",
      "\n"
     ]
    },
    {
     "data": {
      "text/plain": [
       "'这是\"多行字符串\"的第一行这是\\'多行字符串\\'的第二行\\n'"
      ]
     },
     "execution_count": 21,
     "metadata": {},
     "output_type": "execute_result"
    }
   ],
   "source": [
    "# 用于字符串中续行:\n",
    "s = \"\"\"这是\"多行字符串\"的第一行\\\n",
    "这是'多行字符串'的第二行\n",
    "\"\"\"\n",
    "print(s) # print() 函数可以解析 \\n，并将其视为换行符\n",
    "s"
   ]
  },
  {
   "cell_type": "markdown",
   "metadata": {},
   "source": [
    "##### 3.4.1 字符串的索引:"
   ]
  },
  {
   "cell_type": "code",
   "execution_count": 23,
   "metadata": {},
   "outputs": [
    {
     "name": "stdout",
     "output_type": "stream",
     "text": [
      "悠\n",
      "悠\n"
     ]
    }
   ],
   "source": [
    "# <字符串或字符串变量>[序号]\n",
    "# 正向递增序号 (最左侧字符序号为0)\n",
    "# 反向递增序号 (最右侧字符序号为-1)\n",
    "\n",
    "print(\"青青子衿,悠悠我心。\"[-5])  # 标点符号也是字符\n",
    "\n",
    "s = \"青青子衿,悠悠我心。\"\n",
    "print(s[5])"
   ]
  },
  {
   "cell_type": "markdown",
   "metadata": {},
   "source": [
    "##### 3.4.2 字符串的切片:"
   ]
  },
  {
   "cell_type": "code",
   "execution_count": 37,
   "metadata": {},
   "outputs": [
    {
     "name": "stdout",
     "output_type": "stream",
     "text": [
      "青子衿,\n",
      "我心\n",
      "衿,悠悠我心\n",
      "\n",
      "\n",
      "青青子衿,悠\n",
      "子衿,悠悠我心。\n"
     ]
    }
   ],
   "source": [
    "# <字符串或字符串变量>[N:M]\n",
    "\n",
    "s = \"青青子衿,悠悠我心。\"\n",
    "\n",
    "# [N:M]----N包括 M不包括\n",
    "print(s[1:5])\n",
    "print(s[-3:-1])  # 不包括[-3]\n",
    "print(s[3:-1])\n",
    "\n",
    "# N >= M 情况----返回空字符串\n",
    "print(s[2:1])\n",
    "print(s[-1:-3])\n",
    "\n",
    "# N 缺失 默认将N设置为0\n",
    "print(s[:6])\n",
    "\n",
    "# M 缺失 默认表示到字符串结尾\n",
    "print(s[2:])"
   ]
  },
  {
   "cell_type": "code",
   "execution_count": 43,
   "metadata": {},
   "outputs": [
    {
     "name": "stdout",
     "output_type": "stream",
     "text": [
      "青衿\n",
      "青衿悠我\n",
      "青,心\n",
      "心我悠悠,衿子\n",
      "。我悠衿\n",
      "。心我悠悠,衿子青青\n"
     ]
    }
   ],
   "source": [
    "# <字符串或字符串变量>[N:M:K]---高级用法\n",
    "\n",
    "s = \"青青子衿,悠悠我心。\"\n",
    "\n",
    "# 正向索引, 步长为2\n",
    "print(s[1:4:2])\n",
    "print(s[1:8:2])\n",
    "print(s[::4])\n",
    "\n",
    "# k为负数\n",
    "print(s[8:1:-1])\n",
    "print(s[:2:-2])\n",
    "print(s[::-1]) # 字符串翻转\n"
   ]
  },
  {
   "cell_type": "markdown",
   "metadata": {},
   "source": [
    "##### 3.4.3 字符串的基本格式化:"
   ]
  },
  {
   "cell_type": "code",
   "execution_count": 56,
   "metadata": {},
   "outputs": [
    {
     "name": "stdout",
     "output_type": "stream",
     "text": [
      "孔子日: 学而时习之, 不亦说乎。\n",
      "孔子日: 学而时习之, 不亦说乎。\n",
      "说乎日: 学而时习之, 不亦孔子。\n",
      "孔子日: 学而时习之, 不亦孔子。\n",
      "孔子日:{学而时习之, 不亦说乎}。\n"
     ]
    }
   ],
   "source": [
    "# <模板字符串>.format(<逗号分隔的参数>)\n",
    "# 模板字符串 = 字符串 + 槽{}\n",
    "\n",
    "# 一个参数:\n",
    "print(\"{}日: 学而时习之, 不亦说乎。\".format(\"孔子\"))\n",
    "\n",
    "# 多个参数----未指定时顺序对应\n",
    "print(\"{}日: 学而时习之, 不亦{}。\".format(\"孔子\", \"说乎\"))\n",
    "\n",
    "# 多个参数----指定参数使用\n",
    "print(\"{1}日: 学而时习之, 不亦{0}。\".format(\"孔子\", \"说乎\"))\n",
    "print(\"{0}日: 学而时习之, 不亦{0}。\".format(\"孔子\"))\n",
    "\n",
    "# 模板字符串中直接输出大括号:\n",
    "print(\"{1}日:{{学而时习之, 不亦{0}}}。\".format(\"说乎\",\"孔子\"))"
   ]
  },
  {
   "cell_type": "markdown",
   "metadata": {},
   "source": [
    "##### 3.4.4 字符串的格式控制:"
   ]
  },
  {
   "cell_type": "code",
   "execution_count": 80,
   "metadata": {},
   "outputs": [],
   "source": [
    "# 槽{}\n",
    "# {<参数符号>:<格式控制标记>}\n",
    "# : <填充> <对齐> <宽度> <,> <.精度> <类型> "
   ]
  },
  {
   "cell_type": "code",
   "execution_count": 81,
   "metadata": {},
   "outputs": [
    {
     "name": "stdout",
     "output_type": "stream",
     "text": [
      "等级考试                     \n",
      "------等级考试\n",
      "等级考试\n",
      "***等级考试***\n",
      "+++等级考试+++\n",
      "时时时等级考试时时时\n"
     ]
    }
   ],
   "source": [
    "# 第一组: <填充> <对齐> <宽度>----主要用于对显示格式的规范\n",
    "# 第二组: <,> <.精度> <类型>------主要用于对数值本身的规范\n",
    "s = \"等级考试\"\n",
    "\n",
    "# 默认左对齐\n",
    "print(\"{:25}\".format(s)) \n",
    "\n",
    "# 设置填充符号\n",
    "print(\"{:->10}\".format(s)) \n",
    "\n",
    "# 指定宽度为1, 不足实际输出宽度, 则以变量的实际宽度为准\n",
    "print(\"{:1}\".format(s)) \n",
    "\n",
    "# 居中对齐填充\n",
    "print(\"{:*^10}\".format(s))  # 填充*号\n",
    "print(\"{:+^10}\".format(s))  # 填充+号\n",
    "print(\"{:时^10}\".format(s))  # 填充汉字 时 字"
   ]
  },
  {
   "cell_type": "code",
   "execution_count": 82,
   "metadata": {},
   "outputs": [
    {
     "name": "stdout",
     "output_type": "stream",
     "text": [
      "----------等级考试-----------\n",
      "----------等级考试-----------\n",
      "----------等级考试-----------\n"
     ]
    }
   ],
   "source": [
    "# 格式控制标记可以用变量来表示:\n",
    "y = \"-\"\n",
    "print(\"{0:{1}^25}\".format(s, y))  # 指定代表填充字符的变量y\n",
    "print(\"{0:{1}^{2}}\".format(s, y, 25))  # 指定代表填充字符和宽度的变量y和25\n",
    "\n",
    "z = \"^\"\n",
    "print(\"{0:{1}{2}{3}}\".format(s, y, z, 25))  # 指定代表填充字符对齐方式和宽度的变量y和z和25"
   ]
  },
  {
   "cell_type": "code",
   "execution_count": 90,
   "metadata": {},
   "outputs": [
    {
     "name": "stdout",
     "output_type": "stream",
     "text": [
      "-------123,456,789-------\n",
      "--------123456789--------\n"
     ]
    }
   ],
   "source": [
    "### 4. `,` 千位分隔符\n",
    "# | 格式控制标记 | 描述 | 示例 | 输出 |\n",
    "# |---------------|------|------|------|\n",
    "# | `,`           | 添加千位分隔符 | `\"{:,}\".format(1000000)` | `1,000,000` |\n",
    "# | `,`           | 与宽度、对齐结合使用 | `\"{:>15,}\".format(1000000)` | `    1,000,000` |\n",
    "\n",
    "\n",
    "# `,` 是用于将数字格式化为带有千位分隔符的格式。\n",
    "print(\"{:-^25,}\".format(123456789))\n",
    "print(\"{0:-^25}\".format(123456789)) # 对比输出"
   ]
  },
  {
   "cell_type": "code",
   "execution_count": 96,
   "metadata": {},
   "outputs": [
    {
     "name": "stdout",
     "output_type": "stream",
     "text": [
      "12345.68\n",
      "----------------12345.679\n",
      "全国计算机\n",
      "--全国计算机---\n",
      "全国计算机等级考试\n",
      "1.23457e+04\n"
     ]
    }
   ],
   "source": [
    "### 5. 精度\n",
    "# | 格式控制标记 | 描述 | 示例 | 输出 |\n",
    "# |---------------|------|------|------|\n",
    "# | `.n`          | 保留 n 位小数 | `\"{:.2f}\".format(3.14159)` | `3.14` |\n",
    "# | `.n`          | 科学计数法保留 n 位小数 | `\"{:.2e}\".format(12345.6789)` | `1.23e+04` |\n",
    "\n",
    "# 精度用于控制浮点数的小数位数或科学计数法的精度。\n",
    "# 精度可以表示字符串输出最大长度(如果小数点保留位数多余输出长度,以输出长度为准)\n",
    "\n",
    "# 浮点数精度:\n",
    "print(\"{:.2f}\".format(12345.6789))\n",
    "print(\"{:->25.3f}\".format(12345.6789))\n",
    "\n",
    "# 字符串精度:\n",
    "s = \"全国计算机等级考试\"\n",
    "print(\"{:.5}\".format(s))\n",
    "print(\"{:-^10.5}\".format(s))\n",
    "print(\"{:.15}\".format(s))\n",
    "\n",
    "# 科学计数法精度:\n",
    "print(\"{:.5e}\".format(12345.6789)) # 科学计数法保留 n 位小数"
   ]
  },
  {
   "cell_type": "code",
   "execution_count": 99,
   "metadata": {},
   "outputs": [
    {
     "name": "stdout",
     "output_type": "stream",
     "text": [
      "110101001\n",
      "Ʃ\n",
      "425\n",
      "651\n",
      "1a9\n",
      "1A9\n"
     ]
    }
   ],
   "source": [
    "### 6. 类型\n",
    "\n",
    "### 整数类型\n",
    "# | 类型控制标记 | 描述 | 示例 | 输出 |\n",
    "# |---------------|------|------|------|\n",
    "# | `d`           | 十进制整数 | `\"{:d}\".format(42)` | `42` |\n",
    "# | `b`           | 二进制 | `\"{:b}\".format(42)` | `101010` |\n",
    "# | `o`           | 八进制 | `\"{:o}\".format(42)` | `52` |\n",
    "# | `x`           | 十六进制（小写） | `\"{:x}\".format(255)` | `ff` |\n",
    "# | `X`           | 十六进制（大写） | `\"{:X}\".format(255)` | `FF` |\n",
    "# | `c`           | 字符（将整数转换为对应的 Unicode 字符） | `\"{:c}\".format(65)` | `A` |\n",
    "\n",
    "# 整数 425 对应的 Unicode 码点是 U+01A9，它对应的字符是 Ʃ（拉丁字母的大写 Esh）。这个字符用于一些非洲语言的音素表示\n",
    "\n",
    "print(\"{0:b}\\n{0:c}\\n{0:d}\\n{0:o}\\n{0:x}\\n{0:X}\".format(425)) # 科学计数法保留 n 位小数\n"
   ]
  },
  {
   "cell_type": "code",
   "execution_count": 103,
   "metadata": {},
   "outputs": [
    {
     "name": "stdout",
     "output_type": "stream",
     "text": [
      "3.140000e+00---3.140000E+00---3.140000---314.000000%\n",
      "3.14e+00---3.14E+00---3.14---314.00%\n"
     ]
    }
   ],
   "source": [
    "### 浮点数类型\n",
    "# | 类型控制标记 | 描述 | 示例 | 输出 |\n",
    "# |---------------|------|------|------|\n",
    "# | `f`           | 定点数（小数点后六位） | `\"{:f}\".format(3.14159)` | `3.141590` |\n",
    "# | `e`           | 科学计数法（小写 e） | `\"{:e}\".format(12345.6789)` | `1.234568e+04` |\n",
    "# | `E`           | 科学计数法（大写 E） | `\"{:E}\".format(12345.6789)` | `1.234568E+04` |\n",
    "# | `%`           | 百分比（乘以 100 后显示） | `\"{:%}\".format(0.25)` | `25.000000%` |\n",
    "\n",
    "# 浮点数输出时尽量使用<.精度>表示小数部分输出长度\n",
    "print(\"{0:e}---{0:E}---{0:f}---{0:%}\".format(3.14))\n",
    "print(\"{0:.2e}---{0:.2E}---{0:.2f}---{0:.2%}\".format(3.14)) # 对比输出"
   ]
  },
  {
   "cell_type": "code",
   "execution_count": 108,
   "metadata": {},
   "outputs": [
    {
     "name": "stdout",
     "output_type": "stream",
     "text": [
      "3.14\n",
      "3f2\n",
      "3f2\n",
      "这是一个很\n",
      "--python--\n"
     ]
    }
   ],
   "source": [
    "# 一些常用的format()方法格式控制信息:\n",
    "\n",
    "# 输出小数点后两位:\n",
    "print(\"{:.2f}\".format(3.1415926)) \n",
    "\n",
    "# 输出整数的十六进制形式:\n",
    "print(\"{:x}\".format(1010))\n",
    "\n",
    "# 输出整数的十六进制形式:\n",
    "print(\"{:x}\".format(1010)) \n",
    "\n",
    "# 输出字符串的前五位:\n",
    "print(\"{:.5}\".format(\"这是一个很长的字符串\"))\n",
    "\n",
    "# 居中并填充:\n",
    "print(\"{:-^10}\".format(\"python\"))"
   ]
  },
  {
   "cell_type": "markdown",
   "metadata": {},
   "source": [
    "#### 3.5 字符串类型的操作:"
   ]
  },
  {
   "cell_type": "markdown",
   "metadata": {},
   "source": [
    "##### 3.5.1 字符串操作符:"
   ]
  },
  {
   "cell_type": "code",
   "execution_count": 2,
   "metadata": {},
   "outputs": [],
   "source": [
    "# 字符串操作符:\n",
    "\n",
    "# | 操作符 | 描述                           | 示例                              |\n",
    "# |--------|--------------------------------|-----------------------------------|\n",
    "# | `+`    | 连接两个字符串                 | `\"Hello\" + \" World\"` -> `\"Hello World\"` |\n",
    "# | `*`    | 重复字符串指定的次数           | `\"Hi\" * 3` -> `\"HiHiHi\"`          |\n",
    "# | `[]`   | 访问字符串中的特定字符或子串   | `\"Python\"[0]` -> `\"P\"`            |\n",
    "# | `in`   | 检查子串是否存在于字符串中     | `\"Py\" in \"Python\"` -> `True`      |"
   ]
  },
  {
   "cell_type": "code",
   "execution_count": 6,
   "metadata": {},
   "outputs": [
    {
     "name": "stdout",
     "output_type": "stream",
     "text": [
      "python语言程序设计\n"
     ]
    },
    {
     "data": {
      "text/plain": [
       "'python语言程序设计'"
      ]
     },
     "execution_count": 6,
     "metadata": {},
     "output_type": "execute_result"
    }
   ],
   "source": [
    "# | `+`    | 连接两个字符串                 | `\"Hello\" + \" World\"` -> `\"Hello World\"` |\n",
    "print(\"python语言\" + \"程序设计\")\n",
    "name = \"python语言\" + \"程序设计\"\n",
    "name"
   ]
  },
  {
   "cell_type": "code",
   "execution_count": 10,
   "metadata": {},
   "outputs": [
    {
     "name": "stdout",
     "output_type": "stream",
     "text": [
      "等级考试!等级考试!等级考试!\n",
      "等级考试!等级考试!等级考试!\n"
     ]
    }
   ],
   "source": [
    "# | `*`    | 重复字符串指定的次数           | `\"Hi\" * 3` -> `\"HiHiHi\"`          |\n",
    "print(\"等级考试!\" * 3)\n",
    "print(3 * \"等级考试!\")"
   ]
  },
  {
   "cell_type": "code",
   "execution_count": 13,
   "metadata": {},
   "outputs": [
    {
     "name": "stdout",
     "output_type": "stream",
     "text": [
      "True\n",
      "True\n",
      "False\n"
     ]
    }
   ],
   "source": [
    "# | `in`   | 检查子串是否存在于字符串中     | `\"Py\" in \"Python\"` -> `True`      |\n",
    "print(\"python\" in name)\n",
    "print(\"语言\" in name)\n",
    "print('Y' in name)"
   ]
  },
  {
   "cell_type": "code",
   "execution_count": 14,
   "metadata": {},
   "outputs": [
    {
     "data": {
      "text/plain": [
       "'p'"
      ]
     },
     "execution_count": 14,
     "metadata": {},
     "output_type": "execute_result"
    }
   ],
   "source": [
    "# | `[]`   | 访问字符串中的特定字符或子串   | `\"Python\"[0]` -> `\"P\"`            |\n",
    "name[0]"
   ]
  },
  {
   "cell_type": "markdown",
   "metadata": {},
   "source": [
    "##### 3.5.2 字符串处理函数:"
   ]
  },
  {
   "cell_type": "code",
   "execution_count": 15,
   "metadata": {},
   "outputs": [],
   "source": [
    "### 字符串函数:\n",
    "\n",
    "# | 函数       | 描述                                   | 示例                         |\n",
    "# |------------|----------------------------------------|------------------------------|\n",
    "# | `len()`    | 返回字符串的长度                       | `len(\"Hello\")` -> `5`        |\n",
    "# | `str()`    | 将其他数据类型转换为字符串             | `str(123)` -> `'123'`        |\n",
    "# | `bytes()`  | 将字符串转换为字节对象                 | `bytes(\"Hello\", \"utf-8\")` -> `b'Hello'` |\n",
    "# | `chr()`    | 将整数转换为对应的字符                 | `chr(65)` -> `'A'`           |\n",
    "# | `ord()`    | 将字符转换为对应的整数                 | `ord('A')` -> `65`           |\n",
    "# | `hex()`    | 将整数转换为十六进制字符串             | `hex(255)` -> `'0xff'`       |\n",
    "# | `oct()`    | 将整数转换为八进制字符串               | `oct(8)` -> `'0o10'`        |"
   ]
  },
  {
   "cell_type": "code",
   "execution_count": 18,
   "metadata": {},
   "outputs": [
    {
     "data": {
      "text/plain": [
       "18"
      ]
     },
     "execution_count": 18,
     "metadata": {},
     "output_type": "execute_result"
    }
   ],
   "source": [
    "# | `len()`    | 返回字符串的长度                       | `len(\"Hello\")` -> `5`        |\n",
    "\n",
    "# 以 Unicode 字符为计数基础,因此,中英文字符及标点符号字符都是一个单位长度\n",
    "len(\"全国计算机等级考试,python项目\")"
   ]
  },
  {
   "cell_type": "code",
   "execution_count": 24,
   "metadata": {},
   "outputs": [
    {
     "data": {
      "text/plain": [
       "'3.1415926'"
      ]
     },
     "execution_count": 24,
     "metadata": {},
     "output_type": "execute_result"
    }
   ],
   "source": [
    "# # | `str()`    | 将其他数据类型转换为字符串             | `str(123)` -> `'123'`        |\n",
    "\n",
    "# str(1010)\n",
    "# str(0x3f)\n",
    "str(3.1415926)"
   ]
  },
  {
   "cell_type": "code",
   "execution_count": 34,
   "metadata": {},
   "outputs": [
    {
     "name": "stdout",
     "output_type": "stream",
     "text": [
      "ϲ\n",
      "✐\n",
      "21644\n",
      "120\n"
     ]
    }
   ],
   "source": [
    "# | `chr()`    | 将整数转换为对应的字符                 | `chr(65)` -> `'A'`           |\n",
    "# | `ord()`    | 将字符转换为对应的整数                 | `ord('A')` -> `65`           |\n",
    "\n",
    "# chr()\n",
    "print(chr(1010))\n",
    "print(chr(10000))\n",
    "\n",
    "# ord()\n",
    "print(ord(\"和\"))\n",
    "print(ord(\"x\"))"
   ]
  },
  {
   "cell_type": "code",
   "execution_count": 38,
   "metadata": {},
   "outputs": [
    {
     "name": "stdout",
     "output_type": "stream",
     "text": [
      "0x3f2\n",
      "-0o377\n"
     ]
    }
   ],
   "source": [
    "# | `hex()`    | 将整数转换为十六进制字符串             | `hex(255)` -> `'0xff'`       |\n",
    "# | `oct()`    | 将整数转换为八进制字符串               | `oct(8)` -> `'0o10'`        |\n",
    "\n",
    "# hex()\n",
    "print(hex(1010))\n",
    "\n",
    "# oct()\n",
    "print(oct(-255))"
   ]
  },
  {
   "cell_type": "markdown",
   "metadata": {},
   "source": [
    "##### 3.5.3 字符串的处理方法:"
   ]
  },
  {
   "cell_type": "code",
   "execution_count": null,
   "metadata": {},
   "outputs": [],
   "source": [
    "### 字符串方法\n",
    "\n",
    "# | 方法              | 描述                                               | 示例                                |\n",
    "# |-------------------|----------------------------------------------------|-------------------------------------|\n",
    "# | `lower()`         | 将字符串中的所有字符转换为小写                     | `\"HELLO\".lower()` -> `'hello'`      |\n",
    "# | `upper()`         | 将字符串中的所有字符转换为大写                     | `\"hello\".upper()` -> `'HELLO'`      |\n",
    "# | `strip()`         | 移除字符串前后两端的空格或指定字符                 | `\"  hello  \".strip()` -> `'hello'`  |\n",
    "# | `split()`         | 根据指定的分隔符将字符串拆分为列表                 | `\"a,b,c\".split(\",\")` -> `['a', 'b', 'c']` |\n",
    "# | `join()`          | 将序列中的元素连接成一个字符串                     | `\",\".join(['a', 'b', 'c'])` -> `'a,b,c'` |\n",
    "# | `replace()`       | 将字符串中的指定子串替换为另一个子串               | `\"Hello World\".replace(\"World\", \"Python\")` -> `'Hello Python'` |\n",
    "# | `center()`        | 将字符串居中，并使用指定字符（默认为空格）填充左右两侧 | `\"Hello\".center(11, '*')` -> `'***Hello***'` |\n",
    "# | `count()`         | 统计子串在字符串中出现的次数                       | `\"banana\".count(\"a\")` -> `3`        |"
   ]
  },
  {
   "cell_type": "code",
   "execution_count": 44,
   "metadata": {},
   "outputs": [
    {
     "name": "stdout",
     "output_type": "stream",
     "text": [
      "python\n",
      "PYTHON\n"
     ]
    }
   ],
   "source": [
    "# | `lower()`         | 将字符串中的所有字符转换为小写  \n",
    "# | `upper()`         | 将字符串中的所有字符转换为大写  \n",
    "\n",
    "print(\"Python\".lower())\n",
    "print(\"Python\".upper())"
   ]
  },
  {
   "cell_type": "code",
   "execution_count": 49,
   "metadata": {},
   "outputs": [
    {
     "name": "stdout",
     "output_type": "stream",
     "text": [
      "['python', 'is', 'an', 'excellent', 'language.']\n",
      "['python is ', 'n excellent l', 'ngu', 'ge.']\n",
      "['python is ', ' excellent l', 'guage.']\n"
     ]
    }
   ],
   "source": [
    "# | `split()`         | 根据指定的分隔符将字符串拆分为列表 \n",
    "\n",
    "# 返回值为列表\n",
    "# 参数为分隔符(默认为空格)\n",
    "# 可以以单个字符或者字符串分割\n",
    "\n",
    "# 参数默认值(空格)\n",
    "print(\"python is an excellent language.\".split())\n",
    "\n",
    "# 以单个字符分割\n",
    "print(\"python is an excellent language.\".split('a'))\n",
    "\n",
    "# 以字符串分割\n",
    "print(\"python is an excellent language.\".split('an'))"
   ]
  },
  {
   "cell_type": "code",
   "execution_count": 60,
   "metadata": {},
   "outputs": [
    {
     "name": "stdout",
     "output_type": "stream",
     "text": [
      "3\n",
      "2\n",
      "4\n"
     ]
    }
   ],
   "source": [
    "# | `count()`         | 统计子串在字符串中出现的次数   \n",
    "\n",
    "# 参数为字符串str\n",
    "# 返回值为字符串str出现次数\n",
    "\n",
    "print(\"python is an excellent language.\".count('a'))\n",
    "print(\"python is an excellent language.\".count('an'))\n",
    "print(\"python is an excellent language.\".count(' ')) #空格出现次数\n"
   ]
  },
  {
   "cell_type": "code",
   "execution_count": 61,
   "metadata": {},
   "outputs": [
    {
     "name": "stdout",
     "output_type": "stream",
     "text": [
      "python is #n excellent l#ngu#ge.\n",
      "C is an excellent language.\n",
      "python is an  language.\n",
      "python is n excellent lnguge.\n"
     ]
    }
   ],
   "source": [
    "# | `replace()`       | 将字符串中的指定子串替换为另一个子串  \n",
    "\n",
    "# 替换和被替换的子串长度可以不同\n",
    "\n",
    "# replace()替换作用\n",
    "print(\"python is an excellent language.\".replace('a', '#'))\n",
    "print(\"python is an excellent language.\".replace('python', 'C'))\n",
    "\n",
    "# replace()去掉字符串中特定字符和字符串\n",
    "print(\"python is an excellent language.\".replace('excellent', ''))\n",
    "print(\"python is an excellent language.\".replace('a', ''))\n"
   ]
  },
  {
   "cell_type": "code",
   "execution_count": 65,
   "metadata": {},
   "outputs": [
    {
     "name": "stdout",
     "output_type": "stream",
     "text": [
      "-------python-------\n",
      "python\n"
     ]
    }
   ],
   "source": [
    "# | `center()`        | 将字符串居中，并使用指定字符（默认为空格）填充左右两侧 \n",
    "\n",
    "# center(width, fillchar)\n",
    "# 返回长度为width的字符串\n",
    "# str处于新字符串中心位置   fillchar为两侧填充字符(单个字符)\n",
    "# 当width长度小于str时,返回str\n",
    "\n",
    "# 居中 + 填充\n",
    "print(\"python\".center(20, '-'))\n",
    "\n",
    "# 当width长度小于str时,返回str\n",
    "print(\"python\".center(2, '*'))\n"
   ]
  },
  {
   "cell_type": "code",
   "execution_count": 79,
   "metadata": {},
   "outputs": [
    {
     "name": "stdout",
     "output_type": "stream",
     "text": [
      "==Python==\n",
      "Python\n",
      "Pytho\n"
     ]
    }
   ],
   "source": [
    "# | `strip()`         | 移除字符串前后两端的空格或指定字符                 | `\"  hello  \".strip()` -> `'hello'`  |\n",
    "\n",
    "# 参数为要移除的字符\n",
    "# 左右两侧\n",
    "# 这个方法不会修改原字符串，而是返回一个新字符串\n",
    "# strip() 方法只会移除开头和结尾的指定字符，如果需要移除字符串中间的字符，可以使用 replace() 方法\n",
    "\n",
    "s = \"   ==Python==   \"\n",
    "print(s.strip(' '))\n",
    "print(s.strip(' ').strip('='))\n",
    "print(s.strip(' ').strip('=').strip('n'))\n"
   ]
  },
  {
   "cell_type": "code",
   "execution_count": 87,
   "metadata": {},
   "outputs": [
    {
     "name": "stdout",
     "output_type": "stream",
     "text": [
      "P Y T H O N\n",
      "1,2,3,4,5,6\n"
     ]
    },
    {
     "data": {
      "text/plain": [
       "'1-2-3-4-5'"
      ]
     },
     "execution_count": 87,
     "metadata": {},
     "output_type": "execute_result"
    }
   ],
   "source": [
    "# | `join()`          | 将序列中的元素连接成一个字符串                     | `\",\".join(['a', 'b', 'c'])` -> `'a,b,c'` |\n",
    "\n",
    "# str.join(iter)\n",
    "# str为用于分割的字符\n",
    "# iter可以为序列函数(通常为列表)或字符串变量\n",
    "# 返回结果为一个字符串\n",
    "\n",
    "# iter为字符串变量\n",
    "print(\" \".join('PYTHON'))\n",
    "print(\",\".join('123456'))\n",
    "\n",
    "# iter为序列函数(通常为列表)\n",
    "\"-\".join(['1', '2', '3', '4', '5'])\n"
   ]
  },
  {
   "cell_type": "markdown",
   "metadata": {},
   "source": [
    "##### 3.5.4 字符串比较运算:"
   ]
  },
  {
   "cell_type": "code",
   "execution_count": 88,
   "metadata": {},
   "outputs": [],
   "source": [
    "### 字符串比较运算符\n",
    "\n",
    "# | 运算符 | 描述                                  | 示例                                    |\n",
    "# |--------|---------------------------------------|-----------------------------------------|\n",
    "# | `==`   | 判断两个字符串是否相等                | `\"abc\" == \"abc\"` -> `True`              |\n",
    "# | `!=`   | 判断两个字符串是否不相等              | `\"abc\" != \"def\"` -> `True`              |\n",
    "# | `<`    | 判断字符串是否小于另一个字符串（按字典序） | `\"abc\" < \"def\"` -> `True`               |\n",
    "# | `<=`   | 判断字符串是否小于或等于另一个字符串（按字典序） | `\"abc\" <= \"abc\"` -> `True`              |\n",
    "# | `>`    | 判断字符串是否大于另一个字符串（按字典序） | `\"def\" > \"abc\"` -> `True`               |\n",
    "# | `>=`   | 判断字符串是否大于或等于另一个字符串（按字典序） | `\"def\" >= \"abc\"` -> `True`              |"
   ]
  },
  {
   "cell_type": "code",
   "execution_count": 93,
   "metadata": {},
   "outputs": [
    {
     "name": "stdout",
     "output_type": "stream",
     "text": [
      "False\n",
      "False\n",
      "True\n",
      "True\n"
     ]
    }
   ],
   "source": [
    "# 字典序（或称字母序）是一种字符串排序的方式，基于字符的顺序排列\\\n",
    "# 按字典序逐个字符进行比较。\\\n",
    "# 如果前面的字符相等，则继续比较下一个字符，直到找到不同的字符或到达字符串末尾\n",
    "\n",
    "# 比较字符对应的Unicode编码值\n",
    "\n",
    "\n",
    "# P Unicode编码值大于 p\n",
    "print(\"Python\" >= \"python\")\n",
    "print(\"P\" >= \"python\")\n",
    "\n",
    "print(\"python123\" < \"python321\")\n",
    "print(\"123\" == \"123\")"
   ]
  },
  {
   "cell_type": "markdown",
   "metadata": {},
   "source": [
    "#### 3.6 类型判断和类型间转换:"
   ]
  },
  {
   "cell_type": "markdown",
   "metadata": {},
   "source": [
    "##### 3.6.1 类型判断type():"
   ]
  },
  {
   "cell_type": "code",
   "execution_count": 101,
   "metadata": {},
   "outputs": [
    {
     "name": "stdout",
     "output_type": "stream",
     "text": [
      "<class 'float'>\n",
      "<class 'int'>\n",
      "<class 'str'>\n",
      "<class 'list'>\n"
     ]
    }
   ],
   "source": [
    "# type()函数进行类型判断\n",
    "\n",
    "#    print(type(123))          # 输出: <class 'int'>\n",
    "#    print(type(3.14))         # 输出: <class 'float'>\n",
    "#    print(type(\"hello\"))      # 输出: <class 'str'>\n",
    "#    print(type([1, 2, 3]))   # 输出: <class 'list'>\n",
    "#    print(type({\"a\": 1}))    # 输出: <class 'dict'>\n",
    "\n",
    "print(type(10.10))\n",
    "print(type(1010))\n",
    "print(type('1010'))\n",
    "print(type([1010]))\n"
   ]
  },
  {
   "cell_type": "code",
   "execution_count": 103,
   "metadata": {},
   "outputs": [
    {
     "name": "stdout",
     "output_type": "stream",
     "text": [
      "输入数字时浮点数\n"
     ]
    }
   ],
   "source": [
    "# 用户输入数据类型判断:\n",
    "\n",
    "n = eval(input(\"请输入一个数字:\"))\n",
    "if type(n) == type(1010):\n",
    "    print(\"输入数字是整数\")\n",
    "elif type(n) == type(10.10):\n",
    "    print(\"输入数字是浮点数\")\n",
    "else:\n",
    "    print(\"无法判断输入类型\")\n"
   ]
  },
  {
   "cell_type": "markdown",
   "metadata": {},
   "source": [
    "##### 3.6.2 数值与字符串类型转换:"
   ]
  },
  {
   "cell_type": "code",
   "execution_count": 104,
   "metadata": {},
   "outputs": [],
   "source": [
    "### 数值与字符串之间的转换\n",
    "\n",
    "# | 函数    | 描述                                                     | 示例                                         |\n",
    "# |---------|----------------------------------------------------------|----------------------------------------------|\n",
    "# | `int()` | 将一个值转换为整数。如果是浮点数，会截断小数部分。          | `int(\"123\")` -> `123`, `int(12.34)` -> `12`  |\n",
    "# | `float()` | 将一个值转换为浮点数。                                    | `float(\"12.34\")` -> `12.34`, `float(123)` -> `123.0` |\n",
    "# | `str()` | 将一个值转换为字符串。                                     | `str(123)` -> `\"123\"`, `str(12.34)` -> `\"12.34\"` |\n",
    "# | `complex()` | 将一个值转换为复数（complex number）。                  | `complex(1, 2)` -> `(1+2j)`, `complex(\"1+2j\")` -> `(1+2j)` |\n",
    "# | `bool()` | 将一个值转换为布尔类型。非零数值和非空对象转换为 `True`，零和空对象转换为 `False`。 | `bool(0)` -> `False`, `bool(123)` -> `True` |\n",
    "# | `hex()` | 将一个整数转换为十六进制字符串。                           | `hex(255)` -> `'0xff'`                       |\n",
    "# | `oct()` | 将一个整数转换为八进制字符串。                             | `oct(8)` -> `'0o10'`                         |\n",
    "# | `bin()` | 将一个整数转换为二进制字符串。                             | `bin(3)` -> `'0b11'`  \n"
   ]
  },
  {
   "cell_type": "code",
   "execution_count": 114,
   "metadata": {},
   "outputs": [
    {
     "name": "stdout",
     "output_type": "stream",
     "text": [
      "10\n",
      "10\n",
      "10.0\n",
      "123.456\n",
      "10.01\n",
      "<class 'str'>\n"
     ]
    },
    {
     "data": {
      "text/plain": [
       "'17'"
      ]
     },
     "execution_count": 114,
     "metadata": {},
     "output_type": "execute_result"
    }
   ],
   "source": [
    "# | `int()` | 将一个值(浮点数或字符串)转换为整数。如果是浮点数，会截断小数部分。\n",
    "\n",
    "# 浮点数转换为整数\n",
    "print(int(10.01))\n",
    "# 字符串转换为整数\n",
    "print(int(\"10\"))\n",
    "\n",
    "# | `float()` | 将一个值(整数或者字符串)转换为浮点数。 \n",
    " \n",
    "# 整数转换为浮点数\n",
    "print(float(10))\n",
    "# 字符串转换为浮点数\n",
    "print(float(\"123.456\"))\n",
    "\n",
    "# | `str()` | 将一个值转换为字符串。\n",
    "print(str(10.01))\n",
    "print(type(str(10.01)))\n",
    "\n",
    "# 二进制 八进制 十六进制 整数转换为字符串类型时统一表示为十进制\n",
    "str(0x11)\n"
   ]
  }
 ],
 "metadata": {
  "kernelspec": {
   "display_name": "python",
   "language": "python",
   "name": "python3"
  },
  "language_info": {
   "codemirror_mode": {
    "name": "ipython",
    "version": 3
   },
   "file_extension": ".py",
   "mimetype": "text/x-python",
   "name": "python",
   "nbconvert_exporter": "python",
   "pygments_lexer": "ipython3",
   "version": "3.11.7"
  }
 },
 "nbformat": 4,
 "nbformat_minor": 2
}
