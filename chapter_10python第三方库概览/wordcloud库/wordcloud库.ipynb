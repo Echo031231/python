{
 "cells": [
  {
   "cell_type": "markdown",
   "metadata": {},
   "source": [
    "### 10.6 wordcloud库概述:"
   ]
  },
  {
   "cell_type": "code",
   "execution_count": 3,
   "metadata": {},
   "outputs": [
    {
     "data": {
      "text/plain": [
       "<wordcloud.wordcloud.WordCloud at 0x2107f9fd650>"
      ]
     },
     "execution_count": 3,
     "metadata": {},
     "output_type": "execute_result"
    }
   ],
   "source": [
    "# wordcloud 使用----以一个字符串为例:\n",
    "from wordcloud import WordCloud # 导入 WordCloud 类\n",
    "txt = \"I like python. I am learning python\"\n",
    "wordcloud = WordCloud().generate(txt) # 创建一个 WordCloud 对象\n",
    "wordcloud.to_file(\"testcloud.png\") # 在本文件的文件夹目录下"
   ]
  },
  {
   "cell_type": "code",
   "execution_count": 8,
   "metadata": {},
   "outputs": [
    {
     "data": {
      "text/plain": [
       "<wordcloud.wordcloud.WordCloud at 0x2107fd33d90>"
      ]
     },
     "execution_count": 8,
     "metadata": {},
     "output_type": "execute_result"
    }
   ],
   "source": [
    "import jieba\n",
    "from wordcloud import WordCloud\n",
    "\n",
    "txt = '数据科学是一个跨学科的领域，它使用科学方法、过程、算法和系统，从结构化和非结构化数据中提取知识和见解。它涉及统计学、计算机科学和领域专长的技术，用于分析和解释复杂的数据。数据科学的应用范围包括预测建模、机器学习、数据可视化和数据挖掘。随着大数据的兴起，数据科学已成为企业做出数据驱动决策、优化运营和获得竞争优势的重要工具。这个领域随着技术和方法的进步不断发展，成为研究和创新的激动人心的领域。'\n",
    "\n",
    "word = jieba.lcut(txt) # 精准分词\n",
    "# .join() 方法是 Python 中的一个字符串方法，用于将序列中的元素连接成一个新的字符串\n",
    "newtxt = \" \".join(word) # 字符串\n",
    "\n",
    "wordcloud = WordCloud(font_path=\"msyh.ttc\").generate(newtxt)\n",
    "wordcloud.to_file(\"词云中文示例图.png\")\n"
   ]
  },
  {
   "cell_type": "code",
   "execution_count": 1,
   "metadata": {},
   "outputs": [
    {
     "data": {
      "text/plain": [
       "<wordcloud.wordcloud.WordCloud at 0x1a3fea59210>"
      ]
     },
     "execution_count": 1,
     "metadata": {},
     "output_type": "execute_result"
    }
   ],
   "source": [
    "# wordcloud实例:\n",
    "from wordcloud import WordCloud\n",
    "from PIL import Image\n",
    "import numpy as np\n",
    "\n",
    "mask = Image.open('AliceMask.png')\n",
    "mask_arrary = np.array(mask)\n",
    "\n",
    "f = open('AliceInWonderland.txt', 'r', encoding='utf-8')\n",
    "txt = f.read()\n",
    "\n",
    "wordcloud = WordCloud(background_color=\"white\",\n",
    "                      width=800,\n",
    "                      height=600,\n",
    "                      max_words=200,\n",
    "                      max_font_size=80,\n",
    "                      mask=mask_arrary\n",
    "                      ).generate(txt)\n",
    "\n",
    "wordcloud.to_file('Alice实例词云图片.png')"
   ]
  }
 ],
 "metadata": {
  "kernelspec": {
   "display_name": "python",
   "language": "python",
   "name": "python3"
  },
  "language_info": {
   "codemirror_mode": {
    "name": "ipython",
    "version": 3
   },
   "file_extension": ".py",
   "mimetype": "text/x-python",
   "name": "python",
   "nbconvert_exporter": "python",
   "pygments_lexer": "ipython3",
   "version": "3.11.7"
  }
 },
 "nbformat": 4,
 "nbformat_minor": 2
}
