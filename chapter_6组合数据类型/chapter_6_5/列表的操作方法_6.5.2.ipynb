{
 "cells": [
  {
   "cell_type": "markdown",
   "metadata": {},
   "source": [
    "#### 列表的操作方法:"
   ]
  },
  {
   "cell_type": "code",
   "execution_count": 6,
   "metadata": {},
   "outputs": [
    {
     "name": "stdout",
     "output_type": "stream",
     "text": [
      "['1010', '10.10', 'python', 1010]\n",
      "None\n",
      "['1010', '10.10', 'python', 1010, 1010, [1010, 4112]]\n"
     ]
    }
   ],
   "source": [
    "#  **`append(x)`**  | 在列表末尾添加*一个元素 *\n",
    "\n",
    "lt = [\"1010\", \"10.10\", \"python\"]\n",
    "\n",
    "lt.append(1010)\n",
    "print(lt)\n",
    "\n",
    "# append() 方法本身不返回新列表，而是返回 None\n",
    "print(lt.append(1010))\n",
    "\n",
    "lt.append([1010, 0x1010])\n",
    "print(lt)"
   ]
  },
  {
   "cell_type": "code",
   "execution_count": 7,
   "metadata": {},
   "outputs": [
    {
     "name": "stdout",
     "output_type": "stream",
     "text": [
      "[1010, [1010, 4112], '1010', '10.10', 'python', 1010, 1010, [1010, 4112]]\n"
     ]
    }
   ],
   "source": [
    "# 添加多个元素** + **\n",
    "\n",
    "ls = [1010, [1010, 0x1010]]\n",
    "ls += lt\n",
    "print(ls)"
   ]
  },
  {
   "cell_type": "code",
   "execution_count": 8,
   "metadata": {},
   "outputs": [
    {
     "data": {
      "text/plain": [
       "['1010', 1010, '10.10', 'python', 1010, 1010, [1010, 4112]]"
      ]
     },
     "execution_count": 8,
     "metadata": {},
     "output_type": "execute_result"
    }
   ],
   "source": [
    "#  **`insert(i, x)`** | 在指定位置插入一个元素  \n",
    "lt.insert(1, 1010)\n",
    "lt"
   ]
  },
  {
   "cell_type": "code",
   "execution_count": 9,
   "metadata": {},
   "outputs": [
    {
     "data": {
      "text/plain": [
       "[]"
      ]
     },
     "execution_count": 9,
     "metadata": {},
     "output_type": "execute_result"
    }
   ],
   "source": [
    "# **`clear()`**    | 删除列表中的所有元素\n",
    "lt.clear()\n",
    "lt"
   ]
  },
  {
   "cell_type": "code",
   "execution_count": 11,
   "metadata": {},
   "outputs": [
    {
     "name": "stdout",
     "output_type": "stream",
     "text": [
      "10.10\n"
     ]
    },
    {
     "data": {
      "text/plain": [
       "['1010', 'python']"
      ]
     },
     "execution_count": 11,
     "metadata": {},
     "output_type": "execute_result"
    }
   ],
   "source": [
    "# | **`pop([i])`**   | 删除并返回指定位置的元素 \n",
    "lt = [\"1010\", \"10.10\", \"python\"]\n",
    "print(lt.pop(1)) #返回指定位置的元素\n",
    "lt"
   ]
  },
  {
   "cell_type": "code",
   "execution_count": 14,
   "metadata": {},
   "outputs": [
    {
     "data": {
      "text/plain": [
       "['1010', 'python', '10.10']"
      ]
     },
     "execution_count": 14,
     "metadata": {},
     "output_type": "execute_result"
    }
   ],
   "source": [
    "# 删除列表中第一个匹配的元素 # | **`remove(x)`**  | \n",
    "lt = [\"1010\", \"10.10\", \"python\"]\n",
    "lt.append(\"10.10\")\n",
    "lt.remove(\"10.10\")\n",
    "lt"
   ]
  },
  {
   "cell_type": "code",
   "execution_count": 20,
   "metadata": {},
   "outputs": [
    {
     "name": "stdout",
     "output_type": "stream",
     "text": [
      "['1010', 'python']\n",
      "['1010']\n",
      "['1010', 'python', 'mmm']\n"
     ]
    }
   ],
   "source": [
    "# 保留字del的使用\n",
    "\n",
    "# 删除指定位置的元素\n",
    "lt = [\"1010\", \"10.10\", \"python\"]\n",
    "del lt[1]\n",
    "print(lt)\n",
    "\n",
    "# 删除指定切片范围的元素\n",
    "lt = [\"1010\", \"10.10\", \"python\", \"hhh\"]\n",
    "del lt[1:]\n",
    "print(lt)\n",
    "\n",
    "# 删除指定切片范围的元素(有步长)\n",
    "lt = [\"1010\", \"10.10\", \"python\", \"hhh\", \"mmm\"]\n",
    "del lt[1:5:2]\n",
    "print(lt)\n"
   ]
  },
  {
   "cell_type": "code",
   "execution_count": 21,
   "metadata": {},
   "outputs": [
    {
     "data": {
      "text/plain": [
       "['hhh', 'python', '10.10', '1010']"
      ]
     },
     "execution_count": 21,
     "metadata": {},
     "output_type": "execute_result"
    }
   ],
   "source": [
    "# **`reverse()`**  | 对列表进行反转 \n",
    "lt = [\"1010\", \"10.10\", \"python\", \"hhh\"]\n",
    "lt.reverse()\n",
    "lt"
   ]
  },
  {
   "cell_type": "code",
   "execution_count": 22,
   "metadata": {},
   "outputs": [
    {
     "data": {
      "text/plain": [
       "['hhh', 'python', '10.10', '1010']"
      ]
     },
     "execution_count": 22,
     "metadata": {},
     "output_type": "execute_result"
    }
   ],
   "source": [
    "# | **`copy()`**     | 返回列表的浅拷贝 \n",
    "ls = lt.copy()\n",
    "lt.clear() # 清空lt\n",
    "ls"
   ]
  },
  {
   "cell_type": "code",
   "execution_count": 26,
   "metadata": {},
   "outputs": [
    {
     "data": {
      "text/plain": [
       "[]"
      ]
     },
     "execution_count": 26,
     "metadata": {},
     "output_type": "execute_result"
    }
   ],
   "source": [
    "# 直接赋值方法与copy方法的对比\n",
    "ls = lt\n",
    "lt.clear()\n",
    "ls\n",
    "# 对于基本的数据类型，如整数和字符串，可以通过等号实现元素赋值。但对于列表元素，不行。\n",
    "# 等号赋值并不是拷贝元素，而是新关联了一个引用，即ls和lt指向同一套内容\n"
   ]
  },
  {
   "cell_type": "code",
   "execution_count": 33,
   "metadata": {},
   "outputs": [
    {
     "data": {
      "text/plain": [
       "['1010', 1010, 'python']"
      ]
     },
     "execution_count": 33,
     "metadata": {},
     "output_type": "execute_result"
    }
   ],
   "source": [
    "# 索引配合等号对列表元素修改\n",
    "lt = [\"1010\", \"10.10\", \"python\"]\n",
    "lt[1] = 1010\n",
    "lt"
   ]
  },
  {
   "cell_type": "code",
   "execution_count": 34,
   "metadata": {},
   "outputs": [
    {
     "name": "stdout",
     "output_type": "stream",
     "text": [
      "['1010', 'hhh', 'kkkk', 555, 4112]\n"
     ]
    },
    {
     "data": {
      "text/plain": [
       "['1010', 777]"
      ]
     },
     "execution_count": 34,
     "metadata": {},
     "output_type": "execute_result"
    }
   ],
   "source": [
    "# 使用切片配合等号对列表片段进行修改，修改内容可以不等长\n",
    "lt[1:3] = ['hhh', 'kkkk', 555, 0x1010]\n",
    "print(lt)\n",
    "lt[1:5] = [777]\n",
    "lt"
   ]
  }
 ],
 "metadata": {
  "kernelspec": {
   "display_name": "Python 3",
   "language": "python",
   "name": "python3"
  },
  "language_info": {
   "codemirror_mode": {
    "name": "ipython",
    "version": 3
   },
   "file_extension": ".py",
   "mimetype": "text/x-python",
   "name": "python",
   "nbconvert_exporter": "python",
   "pygments_lexer": "ipython3",
   "version": "3.11.7"
  }
 },
 "nbformat": 4,
 "nbformat_minor": 2
}
