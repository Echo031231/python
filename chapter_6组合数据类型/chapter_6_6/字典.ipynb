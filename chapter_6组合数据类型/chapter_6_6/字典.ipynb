{
 "cells": [
  {
   "cell_type": "markdown",
   "metadata": {},
   "source": [
    "#### 6.6字典的类型："
   ]
  },
  {
   "cell_type": "code",
   "execution_count": 1,
   "metadata": {},
   "outputs": [
    {
     "name": "stdout",
     "output_type": "stream",
     "text": [
      "<class 'dict'>\n"
     ]
    },
    {
     "data": {
      "text/plain": [
       "{'201801': '小明', '201802': '小红', '201803': '小白'}"
      ]
     },
     "execution_count": 1,
     "metadata": {},
     "output_type": "execute_result"
    }
   ],
   "source": [
    "# 字典的定义\n",
    "# {<键1>:<值1>, <键2>:<值2>, <键3>:<值3>}\n",
    "d = {\"201801\":\"小明\", \"201802\":\"小红\", \"201803\":\"小白\"}\n",
    "print(type(d))\n",
    "d"
   ]
  },
  {
   "cell_type": "code",
   "execution_count": 4,
   "metadata": {},
   "outputs": [
    {
     "data": {
      "text/plain": [
       "dict"
      ]
     },
     "execution_count": 4,
     "metadata": {},
     "output_type": "execute_result"
    }
   ],
   "source": [
    "d = {}\n",
    "type(d)\n",
    "# 集合和字典都用{},但如果直接使用{},则生成字典类型。"
   ]
  },
  {
   "cell_type": "code",
   "execution_count": 6,
   "metadata": {},
   "outputs": [
    {
     "data": {
      "text/plain": [
       "'小红'"
      ]
     },
     "execution_count": 6,
     "metadata": {},
     "output_type": "execute_result"
    }
   ],
   "source": [
    "# 字典的索引\n",
    "# 索引模式：<值> = <字典变量>[<键>]\n",
    "d = {\"201801\":\"小明\", \"201802\":\"小红\", \"201803\":\"小白\"}\n",
    "d[\"201802\"]"
   ]
  },
  {
   "cell_type": "code",
   "execution_count": 7,
   "metadata": {},
   "outputs": [
    {
     "data": {
      "text/plain": [
       "{'201801': 'hhh', '201802': '小红', '201803': '小白'}"
      ]
     },
     "execution_count": 7,
     "metadata": {},
     "output_type": "execute_result"
    }
   ],
   "source": [
    "# 利用索引与=配合修改值\n",
    "d[\"201801\"] = \"hhh\"\n",
    "d"
   ]
  },
  {
   "cell_type": "code",
   "execution_count": 8,
   "metadata": {},
   "outputs": [
    {
     "data": {
      "text/plain": [
       "{'201804': 'mmm'}"
      ]
     },
     "execution_count": 8,
     "metadata": {},
     "output_type": "execute_result"
    }
   ],
   "source": [
    "# 创建空字典通过索引与赋值配和来赋值\n",
    "t = {}\n",
    "t[\"201804\"] = \"mmm\"\n",
    "t"
   ]
  },
  {
   "cell_type": "markdown",
   "metadata": {},
   "source": [
    "#### 6.7字典类型的操作:"
   ]
  },
  {
   "cell_type": "markdown",
   "metadata": {},
   "source": [
    "###### 6.7.1字典的操作函数:"
   ]
  },
  {
   "cell_type": "code",
   "execution_count": 9,
   "metadata": {},
   "outputs": [
    {
     "data": {
      "text/plain": [
       "3"
      ]
     },
     "execution_count": 9,
     "metadata": {},
     "output_type": "execute_result"
    }
   ],
   "source": [
    "# | `len()`    | 返回字典中键值对的数量   \n",
    "d = {\"201801\":\"小明\", \"201802\":\"小红\", \"201803\":\"小白\"}\n",
    "len(d)"
   ]
  },
  {
   "cell_type": "code",
   "execution_count": 13,
   "metadata": {},
   "outputs": [
    {
     "data": {
      "text/plain": [
       "'201803'"
      ]
     },
     "execution_count": 13,
     "metadata": {},
     "output_type": "execute_result"
    }
   ],
   "source": [
    "# | `max()`    | 返回字典的键或值中的最大值 \n",
    "max(d)"
   ]
  },
  {
   "cell_type": "code",
   "execution_count": 14,
   "metadata": {},
   "outputs": [
    {
     "data": {
      "text/plain": [
       "'201801'"
      ]
     },
     "execution_count": 14,
     "metadata": {},
     "output_type": "execute_result"
    }
   ],
   "source": [
    "# | `min()`    | 返回字典的键或值中的最小值 \n",
    "min(d)"
   ]
  },
  {
   "cell_type": "code",
   "execution_count": 15,
   "metadata": {},
   "outputs": [
    {
     "data": {
      "text/plain": [
       "{}"
      ]
     },
     "execution_count": 15,
     "metadata": {},
     "output_type": "execute_result"
    }
   ],
   "source": [
    "# | `dict()`   | 创建一个新的字典  \n",
    "d = dict()\n",
    "d"
   ]
  },
  {
   "cell_type": "markdown",
   "metadata": {},
   "source": [
    "##### 6.7.2字典的操作方法:\n",
    "###### 语法形式:\n",
    "###### <字典变量>.<方法名称>(<方法参数>)"
   ]
  },
  {
   "cell_type": "code",
   "execution_count": 18,
   "metadata": {},
   "outputs": [
    {
     "name": "stdout",
     "output_type": "stream",
     "text": [
      "dict_keys(['201801', '201802', '201803'])\n",
      "<class 'builtin_function_or_method'>\n"
     ]
    },
    {
     "data": {
      "text/plain": [
       "['201801', '201802', '201803']"
      ]
     },
     "execution_count": 18,
     "metadata": {},
     "output_type": "execute_result"
    }
   ],
   "source": [
    "# | `keys()`     | 返回字典中所有键的视图 \n",
    "d = {\"201801\":\"小明\", \"201802\":\"小红\", \"201803\":\"小白\"}\n",
    "print(d.keys())\n",
    "print(type(d.keys)) #内建函数或方法\n",
    "list(d.keys()) # 转换为列表\n"
   ]
  },
  {
   "cell_type": "code",
   "execution_count": 20,
   "metadata": {},
   "outputs": [
    {
     "name": "stdout",
     "output_type": "stream",
     "text": [
      "dict_values(['小明', '小红', '小白'])\n",
      "<class 'builtin_function_or_method'>\n"
     ]
    },
    {
     "data": {
      "text/plain": [
       "['小明', '小红', '小白']"
      ]
     },
     "execution_count": 20,
     "metadata": {},
     "output_type": "execute_result"
    }
   ],
   "source": [
    "# | `values()`   | 返回字典中所有值的视图 \n",
    "print(d.values())\n",
    "print(type(d.values))\n",
    "list(d.values())"
   ]
  },
  {
   "cell_type": "code",
   "execution_count": 22,
   "metadata": {},
   "outputs": [
    {
     "name": "stdout",
     "output_type": "stream",
     "text": [
      "dict_items([('201801', '小明'), ('201802', '小红'), ('201803', '小白')])\n",
      "<class 'dict_items'>\n"
     ]
    },
    {
     "data": {
      "text/plain": [
       "[('201801', '小明'), ('201802', '小红'), ('201803', '小白')]"
      ]
     },
     "execution_count": 22,
     "metadata": {},
     "output_type": "execute_result"
    }
   ],
   "source": [
    "# | `items()`    | 返回字典中所有键值对的视图   \n",
    "print(d.items())\n",
    "print(type(d.items()))\n",
    "list(d.items())"
   ]
  },
  {
   "cell_type": "code",
   "execution_count": 26,
   "metadata": {},
   "outputs": [
    {
     "name": "stdout",
     "output_type": "stream",
     "text": [
      "小红\n"
     ]
    },
    {
     "data": {
      "text/plain": [
       "'返回默认值'"
      ]
     },
     "execution_count": 26,
     "metadata": {},
     "output_type": "execute_result"
    }
   ],
   "source": [
    "# | `get()`      | 获取指定键的值，如果键不存在则返回默认值 | `my_dict.get('key', 'default')`|\n",
    "print(d.get(\"201802\"))\n",
    "d.get(\"201804\", \"返回默认值\")"
   ]
  },
  {
   "cell_type": "code",
   "execution_count": 27,
   "metadata": {},
   "outputs": [
    {
     "name": "stdout",
     "output_type": "stream",
     "text": [
      "小红\n",
      "{'201801': '小明', '201803': '小白'}\n"
     ]
    },
    {
     "data": {
      "text/plain": [
       "'不存在'"
      ]
     },
     "execution_count": 27,
     "metadata": {},
     "output_type": "execute_result"
    }
   ],
   "source": [
    "# | `pop()`      | 移除指定键并返回其对应的值\n",
    "a = d.pop(\"201802\")\n",
    "print(a)\n",
    "print(d)\n",
    "d.pop(\"201804\", \"不存在\")"
   ]
  },
  {
   "cell_type": "code",
   "execution_count": 28,
   "metadata": {},
   "outputs": [
    {
     "name": "stdout",
     "output_type": "stream",
     "text": [
      "('201803', '小白')\n"
     ]
    },
    {
     "data": {
      "text/plain": [
       "{'201801': '小明', '201802': '小红'}"
      ]
     },
     "execution_count": 28,
     "metadata": {},
     "output_type": "execute_result"
    }
   ],
   "source": [
    "# | `popitem()`  | 移除并返回字典中的最后一对键值对  \n",
    "\n",
    "# 在 Python 3.5 中，字典的 popitem() 方法的行为与 Python 3.7 及以后的版本略有不同。\n",
    "# 虽然 popitem() 方法在 Python 3.5 中也用于移除并返回字典中的一对键值对，\n",
    "# 但字典在 Python 3.5 中并不保证顺序，因此 popitem() 返回的是字典中任意一对键值对，\n",
    "# 而不是最后插入的键值对\n",
    "\n",
    "d = {\"201801\":\"小明\", \"201802\":\"小红\", \"201803\":\"小白\"}\n",
    "print(d.popitem())\n",
    "d"
   ]
  },
  {
   "cell_type": "code",
   "execution_count": 30,
   "metadata": {},
   "outputs": [
    {
     "data": {
      "text/plain": [
       "{}"
      ]
     },
     "execution_count": 30,
     "metadata": {},
     "output_type": "execute_result"
    }
   ],
   "source": [
    "# | `clear()`    | 删除字典中的所有键值对 \n",
    "d.clear()\n",
    "d"
   ]
  },
  {
   "cell_type": "code",
   "execution_count": 32,
   "metadata": {},
   "outputs": [
    {
     "data": {
      "text/plain": [
       "{'201801': '小明', '201803': '小白'}"
      ]
     },
     "execution_count": 32,
     "metadata": {},
     "output_type": "execute_result"
    }
   ],
   "source": [
    "# 使用del(python保留字)来删除字典某一个元素\n",
    "d = {\"201801\":\"小明\", \"201802\":\"小红\", \"201803\":\"小白\"}\n",
    "del d[\"201802\"]\n",
    "d"
   ]
  },
  {
   "cell_type": "code",
   "execution_count": 34,
   "metadata": {},
   "outputs": [
    {
     "name": "stdout",
     "output_type": "stream",
     "text": [
      "201802 in d\n"
     ]
    }
   ],
   "source": [
    "# 通过in(python保留字)来判断一个键是否在字典中\n",
    "\"201803\" in d"
   ]
  },
  {
   "cell_type": "code",
   "execution_count": 2,
   "metadata": {},
   "outputs": [
    {
     "name": "stdout",
     "output_type": "stream",
     "text": [
      "201801\n",
      "201802\n",
      "201803\n"
     ]
    }
   ],
   "source": [
    "# 字典遍历循环对其元素进行遍历\n",
    "d = {\"201801\":\"小明\", \"201802\":\"小红\", \"201803\":\"小白\"}\n",
    "for i in d:\n",
    "    print(i)\n",
    "    # print(\"字典的键和值分别是:{}和{}\".format(i, d.get(i)))"
   ]
  },
  {
   "cell_type": "code",
   "execution_count": 5,
   "metadata": {},
   "outputs": [
    {
     "name": "stdout",
     "output_type": "stream",
     "text": [
      "the        1091\n",
      "and         969\n",
      "to          767\n",
      "of          675\n",
      "i           633\n",
      "a           571\n",
      "you         558\n",
      "my          520\n",
      "in          451\n",
      "it          421\n"
     ]
    }
   ],
   "source": [
    "# 文本词频统计\n",
    "# 处理文本函数\n",
    "# read() 方法读取文件的整个内容，并将其作为一个字符串返回\n",
    "# lower() 是字符串的方法，用于将字符串中的所有大写字母转换为小写字母\n",
    "# replace() 方法是 Python 字符串对象的方法，用于替换字符串中的指定子字符串\n",
    "# split() 方法是 Python 字符串对象的方法，用于将字符串拆分成一个列表\n",
    "# sort() 方法是 Python 列表对象的方法，用于对列表中的元素进行排序\n",
    "# lambda 函数是 Python 中用于创建匿名函数的一种简洁方式\n",
    "# format() 方法用于格式化字符串，可以用来控制输出的对齐方式、宽度、填充字符等\n",
    "\n",
    "# 第一步:文本的处理(提取英文文章的单词)\n",
    "def getText(): # 获取和整理文本函数\n",
    "    txt = open(\"hamlet.txt\", \"r\").read() \n",
    "    txt = txt.lower()\n",
    "    for ch in \"! '  # $ & () * + , - . ; < > = ? @ [ \\ \\ ] ^ _ { | } ~ ` \\n \" :\n",
    "        txt = txt.replace(ch, \" \")\n",
    "    return txt\n",
    "\n",
    "hamletTxt = getText()\n",
    "# print(hamletTxt)\n",
    "words = hamletTxt.split() # words为列表\n",
    "# print(words)\n",
    "\n",
    "\n",
    "# 第二步:对每个单词进行计数\n",
    "counts = {} # 创建空字典\n",
    "for i in words:\n",
    "    counts[i] = counts.get(i, 0) + 1\n",
    "    \n",
    "# for i in words: # 创建空字典通过索引与赋值配和来赋值\n",
    "#     if i in counts:\n",
    "#         counts[i] += 1\n",
    "#     else:\n",
    "#         counts[i] = 1    \n",
    "items = list(counts.items()) # items是列表\n",
    "\n",
    "\n",
    "# 第三步: 对单词统计值从高到低排序\n",
    "items.sort(key=lambda x:x[1], reverse = True)\n",
    "# sort() 方法会在原地对列表进行排序，没有返回值（返回 None）。\n",
    "# 提取元组的第二个元素用于排序\n",
    "# 列表按降序排列\n",
    "# print(items)\n",
    "for i in range(10):\n",
    "    word, count = items[i]\n",
    "    print(\"{0:<10}{1:>5}\".format(word, count))\n",
    "\n",
    "# 格式化说明\n",
    "# {0:<10}:\n",
    "\n",
    "# 0:表示第一个参数 word。\n",
    "# <：左对齐。\n",
    "# 10:宽度为 10 个字符。\n",
    "# 这表示 word 会被左对齐，并且占据至少 10 个字符的位置。若 word 的长度小于 10,则会用空格填充右侧。\n",
    "# {1:>5}:\n",
    "\n",
    "# 1:表示第二个参数 count。\n",
    "# >：右对齐。\n",
    "# 5:宽度为 5 个字符。\n",
    "# 这表示 count 会被右对齐，并且占据至少 5 个字符的位置。若 count 的长度小于 5,则会用空格填充左侧。\n",
    "\n",
    "# 左对齐 <：使内容在指定宽度内左对齐。\n",
    "# 右对齐 >：使内容在指定宽度内右对齐。\n",
    "# 宽度：指定字段的最小宽度，短于宽度的内容将用空格填充\n",
    "\n",
    "\n"
   ]
  }
 ],
 "metadata": {
  "kernelspec": {
   "display_name": "Python 3",
   "language": "python",
   "name": "python3"
  },
  "language_info": {
   "codemirror_mode": {
    "name": "ipython",
    "version": 3
   },
   "file_extension": ".py",
   "mimetype": "text/x-python",
   "name": "python",
   "nbconvert_exporter": "python",
   "pygments_lexer": "ipython3",
   "version": "3.11.7"
  }
 },
 "nbformat": 4,
 "nbformat_minor": 2
}
